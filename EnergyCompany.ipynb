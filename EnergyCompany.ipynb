{
 "cells": [
  {
   "cell_type": "markdown",
   "metadata": {},
   "source": [
    "<section style=\"direction: ltr; text-align: center; margin: 30px;\">\n",
    "\n",
    "# **SQL-Fundamentals-Farsi**\n",
    "\n",
    "</section>\n",
    "\n",
    "<section style=\"direction: ltr; text-align: justyfy; margin: 30px;\">\n",
    "\n",
    "This project offers a versatile and automated solution for generating database reports in structured formats. By leveraging popular Python libraries such as Pandas, SQLAlchemy, and Openpyxl, it simplifies the process of extracting, displaying, and exporting data from SQL Server databases. With the added ability to handle both Excel and CSV outputs, it provides a flexible tool for data analysis and reporting needs.\n",
    "\n",
    "</section>\n",
    "\n",
    "---\n"
   ]
  },
  {
   "cell_type": "markdown",
   "metadata": {},
   "source": [
    "### **Calling the SQL Server Connection Function**\n"
   ]
  },
  {
   "cell_type": "code",
   "execution_count": 1,
   "metadata": {},
   "outputs": [],
   "source": [
    "import pandas as pd\n",
    "from sqlalchemy import create_engine\n",
    "from sqlalchemy.exc import SQLAlchemyError\n",
    "import logging\n",
    "\n",
    "# Configure logging\n",
    "logging.basicConfig(\n",
    "    level=logging.INFO, format=\"%(asctime)s - %(levelname)s - %(message)s\"\n",
    ")\n",
    "\n",
    "\n",
    "def create_connection(server, database, username=None, password=None):\n",
    "    \"\"\"\n",
    "    Create a connection to the SQL Server database using SQLAlchemy.\n",
    "\n",
    "    Parameters:\n",
    "    - server: str, the name of the SQL Server\n",
    "    - database: str, the name of the database\n",
    "    - username: str, optional, SQL Server username (for SQL authentication)\n",
    "    - password: str, optional, SQL Server password (for SQL authentication)\n",
    "\n",
    "    Returns:\n",
    "    - engine: sqlalchemy.engine.base.Engine, the SQLAlchemy engine object or None if the connection fails\n",
    "    \"\"\"\n",
    "    try:\n",
    "        if username and password:\n",
    "            connection_string = f\"mssql+pyodbc://{username}:{password}@{server}/{database}?driver=ODBC+Driver+17+for+SQL+Server\"\n",
    "        else:\n",
    "            connection_string = f\"mssql+pyodbc://{server}/{database}?driver=ODBC+Driver+17+for+SQL+Server\"\n",
    "\n",
    "        engine = create_engine(connection_string)\n",
    "\n",
    "        # Test connection\n",
    "        with engine.connect() as conn:\n",
    "            logging.info(\"Connection successful!\")\n",
    "\n",
    "        return engine\n",
    "\n",
    "    except SQLAlchemyError as e:\n",
    "        logging.error(f\"Connection failed: {e}\")\n",
    "        return None"
   ]
  },
  {
   "cell_type": "markdown",
   "metadata": {},
   "source": [
    "---\n",
    "\n",
    "### **Check if the database connection is successful**\n"
   ]
  },
  {
   "cell_type": "code",
   "execution_count": 2,
   "metadata": {},
   "outputs": [
    {
     "name": "stderr",
     "output_type": "stream",
     "text": [
      "2024-11-04 23:37:46,497 - INFO - Connection successful!\n",
      "2024-11-04 23:37:46,498 - INFO - Database connection established successfully.\n",
      "2024-11-04 23:37:46,498 - INFO - Server: imsalione-pc\\imsalionedb\n",
      "2024-11-04 23:37:46,500 - INFO - Database: EnergyCompany\n"
     ]
    }
   ],
   "source": [
    "def check_connection(engine):\n",
    "    if engine:\n",
    "        logging.info(\"Database connection established successfully.\")\n",
    "        logging.info(f\"Server: {server}\")\n",
    "        logging.info(f\"Database: {database}\")\n",
    "        return True\n",
    "    else:\n",
    "        logging.error(\"Failed to establish database connection.\")\n",
    "        return False\n",
    "\n",
    "\n",
    "# Call the create_connection function\n",
    "server = r\"imsalione-pc\\imsalionedb\"\n",
    "database = \"EnergyCompany\"\n",
    "\n",
    "engine = create_connection(server, database)\n",
    "\n",
    "# Use the check_connection function to verify the connection\n",
    "if check_connection(engine):\n",
    "    # Proceed with database operations\n",
    "    pass\n",
    "else:\n",
    "    # Handle the failed connection\n",
    "    pass"
   ]
  },
  {
   "cell_type": "markdown",
   "metadata": {},
   "source": [
    "---\n",
    "\n",
    "### **Fetching and Displaying Data from SQL Server**\n"
   ]
  },
  {
   "cell_type": "code",
   "execution_count": 14,
   "metadata": {},
   "outputs": [],
   "source": [
    "import pandas as pd\n",
    "from sqlalchemy import exc\n",
    "from pathlib import Path\n",
    "from prettytable import PrettyTable\n",
    "\n",
    "# Define the directory where you want to save the report files\n",
    "output_directory = Path(\"C:/Reports\")  # Adjust the path as needed\n",
    "output_directory.mkdir(parents=True, exist_ok=True)  # Ensure the directory exists\n",
    "\n",
    "\n",
    "def truncate(value, width):\n",
    "    return str(value)[:width] + \"...\" if len(str(value)) > width else str(value)\n",
    "\n",
    "\n",
    "def fetch_and_display_queries(\n",
    "    engine,\n",
    "    queries,\n",
    "    pnum=10,\n",
    "    export_to_excel=False,\n",
    "    export_to_csv=False,\n",
    "    display_tail=False,\n",
    "):\n",
    "    \"\"\"\n",
    "    Fetch data from multiple SQL queries and optionally export to Excel or CSV.\n",
    "\n",
    "    Parameters:\n",
    "    - engine: SQLAlchemy engine object.\n",
    "    - queries: List of SQL query strings.\n",
    "    - pnum: int, number of rows to display (default is 10).\n",
    "    - export_to_excel: bool, whether to export data to an Excel file (default is False).\n",
    "    - export_to_csv: bool, whether to export data to a CSV file (default is False).\n",
    "    - display_tail: bool, whether to display the last pnum rows (default is False).\n",
    "    \"\"\"\n",
    "\n",
    "    if engine:\n",
    "        # If exporting to Excel, create the writer object for the single file\n",
    "        if export_to_excel:\n",
    "            file_path = (\n",
    "                output_directory\n",
    "                / f\"report_{pd.Timestamp.now().strftime('%d%m%Y%H%M%S')}.xlsx\"\n",
    "            )\n",
    "            writer = pd.ExcelWriter(file_path, engine=\"openpyxl\")\n",
    "\n",
    "        for i, query in enumerate(queries, 1):\n",
    "\n",
    "            print(f\"Executing query {i}:\\n{query}\")\n",
    "            try:\n",
    "                # Load data into a pandas DataFrame\n",
    "                df = pd.read_sql(query, engine)\n",
    "\n",
    "                # Display the first or last pnum rows based on display_tail parameter\n",
    "                table = PrettyTable()\n",
    "                table.field_names = df.columns\n",
    "\n",
    "                if display_tail:\n",
    "                    rows = df.iloc[-pnum:].itertuples(index=False)\n",
    "                else:\n",
    "                    rows = df.iloc[:pnum].itertuples(index=False)\n",
    "\n",
    "                for row in rows:\n",
    "                    table.add_row([truncate(value, 25) for value in row])\n",
    "\n",
    "                print(table)\n",
    "\n",
    "                # Print the number of records in the query result\n",
    "                record_count = len(df)\n",
    "                print(f\"Query {i} returned {record_count} records.\\n\")\n",
    "\n",
    "                # Export to Excel in different sheets if requested\n",
    "                if export_to_excel:\n",
    "                    sheet_name = f\"Query_{i}\"\n",
    "                    df.to_excel(writer, sheet_name=sheet_name, index=False)\n",
    "                    print(\n",
    "                        f\"Data from query {i} exported to sheet {sheet_name} in {file_path}\"\n",
    "                    )\n",
    "\n",
    "                # Export to CSV if requested (each query in a different CSV file)\n",
    "                if export_to_csv:\n",
    "                    csv_file_path = (\n",
    "                        output_directory\n",
    "                        / f\"report_{i}_{pd.Timestamp.now().strftime('%d%m%Y%H%M%S')}.csv\"\n",
    "                    )\n",
    "                    df.to_csv(csv_file_path, index=False)\n",
    "                    print(f\"Data from query {i} exported to CSV at {csv_file_path}\")\n",
    "\n",
    "            except exc.SQLAlchemyError as db_error:\n",
    "                print(f\"Database error occurred during query {i}: {db_error}\")\n",
    "            except Exception as e:\n",
    "                print(f\"An error occurred during query {i}: {e}\")\n",
    "\n",
    "        # Save the Excel file with all sheets after the loop finishes\n",
    "        if export_to_excel:\n",
    "            writer.close()  # Use close() instead of save()\n",
    "            print(f\"All data exported to {file_path}\")\n",
    "\n",
    "    else:\n",
    "        print(\"No database connection.\")\n",
    "\n",
    "\n",
    "# Example usage:\n",
    "# queries = [\"\"\"SELECT COLUMN_NAME, DATA_TYPE FROM INFORMATION_SCHEMA.COLUMNS WHERE TABLE_NAME = 'Customer';\"\"\", ...]\n",
    "# fetch_and_display_multiple_queries(engine, queries, pnum=20, export_to_excel=True, export_to_csv=True, sidplay_tail=True)"
   ]
  },
  {
   "cell_type": "markdown",
   "metadata": {},
   "source": [
    "---\n",
    "\n",
    "### **1- Executing SQL Query to Fetch and Display Table Information**\n"
   ]
  },
  {
   "cell_type": "code",
   "execution_count": 15,
   "metadata": {},
   "outputs": [
    {
     "name": "stdout",
     "output_type": "stream",
     "text": [
      "Executing query 1:\n",
      "SELECT DISTINCT [معاونت] FROM table1\n",
      "+------------------------------+\n",
      "|            معاونت            |\n",
      "+------------------------------+\n",
      "|            تولید             |\n",
      "|     ديسپاچينگ و مخابرات      |\n",
      "|           زيرساخت            |\n",
      "|           زیرساخت            |\n",
      "| مركز مطالعات سیستم و انرژ... |\n",
      "|          نفت و گاز           |\n",
      "+------------------------------+\n",
      "Query 1 returned 6 records.\n",
      "\n"
     ]
    }
   ],
   "source": [
    "queries = [\n",
    "    \"\"\"SELECT DISTINCT [معاونت] FROM table1\"\"\"\n",
    "]\n",
    "\n",
    "fetch_and_display_queries(engine, queries, pnum=20)"
   ]
  },
  {
   "cell_type": "markdown",
   "metadata": {},
   "source": [
    "---\n",
    "\n",
    "### **2- Executing SQL Query to Fetch and Display Table Information**\n"
   ]
  },
  {
   "cell_type": "code",
   "execution_count": 21,
   "metadata": {},
   "outputs": [
    {
     "name": "stdout",
     "output_type": "stream",
     "text": [
      "Executing query 1:\n",
      "\n",
      "         SELECT COUNT(*) AS NumberOfProjects, [معاونت]\n",
      "         FROM table1\n",
      "         GROUP BY [معاونت]\n",
      "         ORDER BY NumberOfProjects DESC\n",
      "         \n",
      "+------------------+------------------------------+\n",
      "| NumberOfProjects |            معاونت            |\n",
      "+------------------+------------------------------+\n",
      "|       108        |           زیرساخت            |\n",
      "|        31        |            تولید             |\n",
      "|        31        |     ديسپاچينگ و مخابرات      |\n",
      "|        28        |          نفت و گاز           |\n",
      "|        6         | مركز مطالعات سیستم و انرژ... |\n",
      "|        5         |           زيرساخت            |\n",
      "+------------------+------------------------------+\n",
      "Query 1 returned 6 records.\n",
      "\n"
     ]
    }
   ],
   "source": [
    "query = [\"\"\"\n",
    "         SELECT COUNT(*) AS NumberOfProjects, [معاونت]\n",
    "         FROM table1\n",
    "         GROUP BY [معاونت]\n",
    "         ORDER BY NumberOfProjects DESC\n",
    "         \"\"\"]\n",
    "\n",
    "fetch_and_display_queries(engine, query)"
   ]
  }
 ],
 "metadata": {
  "kernelspec": {
   "display_name": "Python 3",
   "language": "python",
   "name": "python3"
  },
  "language_info": {
   "codemirror_mode": {
    "name": "ipython",
    "version": 3
   },
   "file_extension": ".py",
   "mimetype": "text/x-python",
   "name": "python",
   "nbconvert_exporter": "python",
   "pygments_lexer": "ipython3",
   "version": "3.12.4"
  }
 },
 "nbformat": 4,
 "nbformat_minor": 2
}

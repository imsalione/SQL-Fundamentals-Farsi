{
 "cells": [
  {
   "cell_type": "markdown",
   "metadata": {},
   "source": [
    "<section style=\"direction: ltr; text-align: center; margin: 30px;\">\n",
    "\n",
    "# **SQL-Fundamentals-Farsi**\n",
    "\n",
    "</section>\n",
    "\n",
    "<section style=\"direction: ltr; text-align: justyfy; margin: 30px;\">\n",
    "\n",
    "This project offers a versatile and automated solution for generating database reports in structured formats. By leveraging popular Python libraries such as Pandas, SQLAlchemy, and Openpyxl, it simplifies the process of extracting, displaying, and exporting data from SQL Server databases. With the added ability to handle both Excel and CSV outputs, it provides a flexible tool for data analysis and reporting needs.\n",
    "\n",
    "</section>\n",
    "\n",
    "---"
   ]
  },
  {
   "cell_type": "markdown",
   "metadata": {},
   "source": [
    "### **Calling the SQL Server Connection Function**"
   ]
  },
  {
   "cell_type": "code",
   "execution_count": 1,
   "metadata": {},
   "outputs": [],
   "source": [
    "import pandas as pd\n",
    "from sqlalchemy import create_engine\n",
    "from sqlalchemy.exc import SQLAlchemyError\n",
    "import logging\n",
    "\n",
    "# Configure logging\n",
    "logging.basicConfig(level=logging.INFO, format='%(asctime)s - %(levelname)s - %(message)s')\n",
    "\n",
    "def create_connection(server, database, username=None, password=None):\n",
    "    \"\"\"\n",
    "    Create a connection to the SQL Server database using SQLAlchemy.\n",
    "    \n",
    "    Parameters:\n",
    "    - server: str, the name of the SQL Server\n",
    "    - database: str, the name of the database\n",
    "    - username: str, optional, SQL Server username (for SQL authentication)\n",
    "    - password: str, optional, SQL Server password (for SQL authentication)\n",
    "    \n",
    "    Returns:\n",
    "    - engine: sqlalchemy.engine.base.Engine, the SQLAlchemy engine object or None if the connection fails\n",
    "    \"\"\"\n",
    "    try:\n",
    "        if username and password:\n",
    "            connection_string = f'mssql+pyodbc://{username}:{password}@{server}/{database}?driver=ODBC+Driver+17+for+SQL+Server'\n",
    "        else:\n",
    "            connection_string = f'mssql+pyodbc://{server}/{database}?driver=ODBC+Driver+17+for+SQL+Server'\n",
    "        \n",
    "        engine = create_engine(connection_string)\n",
    "        \n",
    "        # Test connection\n",
    "        with engine.connect() as conn:\n",
    "            logging.info(\"Connection successful!\")\n",
    "        \n",
    "        return engine\n",
    "\n",
    "    except SQLAlchemyError as e:\n",
    "        logging.error(f\"Connection failed: {e}\")\n",
    "        return None"
   ]
  },
  {
   "cell_type": "markdown",
   "metadata": {},
   "source": [
    "***\n",
    "\n",
    "### **Check if the database connection is successful**"
   ]
  },
  {
   "cell_type": "code",
   "execution_count": 2,
   "metadata": {},
   "outputs": [
    {
     "name": "stderr",
     "output_type": "stream",
     "text": [
      "2024-10-10 13:21:11,296 - INFO - Connection successful!\n",
      "2024-10-10 13:21:11,297 - INFO - Database connection established successfully.\n",
      "2024-10-10 13:21:11,299 - INFO - Server: imsalione-pc\\imsalionedb\n",
      "2024-10-10 13:21:11,300 - INFO - Database: AdventureWorksLT2022\n"
     ]
    }
   ],
   "source": [
    "def check_connection(engine):\n",
    "    if engine:\n",
    "        logging.info(\"Database connection established successfully.\")\n",
    "        logging.info(f\"Server: {server}\")\n",
    "        logging.info(f\"Database: {database}\")\n",
    "        return True\n",
    "    else:\n",
    "        logging.error(\"Failed to establish database connection.\")\n",
    "        return False\n",
    "\n",
    "# Call the create_connection function\n",
    "server = r'imsalione-pc\\imsalionedb'\n",
    "database = 'AdventureWorksLT2022'\n",
    "\n",
    "engine = create_connection(server, database)\n",
    "\n",
    "# Use the check_connection function to verify the connection\n",
    "if check_connection(engine):\n",
    "    # Proceed with database operations\n",
    "    pass\n",
    "else:\n",
    "    # Handle the failed connection\n",
    "    pass"
   ]
  },
  {
   "cell_type": "markdown",
   "metadata": {},
   "source": [
    "***\n",
    "\n",
    "### **Fetching and Displaying Data from SQL Server**"
   ]
  },
  {
   "cell_type": "code",
   "execution_count": 3,
   "metadata": {},
   "outputs": [],
   "source": [
    "import pandas as pd\n",
    "from sqlalchemy import exc\n",
    "from pathlib import Path\n",
    "from prettytable import PrettyTable\n",
    "\n",
    "# Define the directory where you want to save the report files\n",
    "output_directory = Path(\"C:/Reports\")  # Adjust the path as needed\n",
    "output_directory.mkdir(parents=True, exist_ok=True)  # Ensure the directory exists\n",
    "\n",
    "def truncate(value, width):\n",
    "    return str(value)[:width] + \"...\" if len(str(value)) > width else str(value)\n",
    "\n",
    "def fetch_and_display_queries(engine, queries, pnum=10, export_to_excel=False, export_to_csv=False):\n",
    "    \"\"\"\n",
    "    Fetch data from multiple SQL queries and optionally export to Excel or CSV.\n",
    "    \n",
    "    Parameters:\n",
    "    - engine: SQLAlchemy engine object.\n",
    "    - queries: List of SQL query strings.\n",
    "    - pnum: int, number of rows to display (default is 10).\n",
    "    - export_to_excel: bool, whether to export data to an Excel file (default is False).\n",
    "    - export_to_csv: bool, whether to export data to a CSV file (default is False).\n",
    "    \"\"\"\n",
    "    \n",
    "    if engine:\n",
    "        # If exporting to Excel, create the writer object for the single file\n",
    "        if export_to_excel:\n",
    "            file_path = output_directory / f\"report_{pd.Timestamp.now().strftime('%d%m%Y%H%M%S')}.xlsx\"\n",
    "            writer = pd.ExcelWriter(file_path, engine='openpyxl')\n",
    "\n",
    "        for i, query in enumerate(queries, 1):\n",
    "\n",
    "            print(f\"Executing query {i}:\\n{query}\")\n",
    "            try:\n",
    "                # Load data into a pandas DataFrame\n",
    "                df = pd.read_sql(query, engine)\n",
    "                \n",
    "                # Display the first pnum rows (or default 10 rows if pnum is not provided)\n",
    "                table = PrettyTable()\n",
    "                table.field_names = df.columns\n",
    "                \n",
    "                # Limit the width of each column to 20 characters\n",
    "                for row in df.head(pnum).itertuples(index=False):\n",
    "                    table.add_row([truncate(value, 25) for value in row])\n",
    "                \n",
    "                print(table)\n",
    "                \n",
    "                # Print the number of records in the query result\n",
    "                record_count = len(df)\n",
    "                print(f\"Query {i} returned {record_count} records.\\n\")\n",
    "                \n",
    "                # Export to Excel in different sheets if requested\n",
    "                if export_to_excel:\n",
    "                    sheet_name = f\"Query_{i}\"\n",
    "                    df.to_excel(writer, sheet_name=sheet_name, index=False)\n",
    "                    print(f\"Data from query {i} exported to sheet {sheet_name} in {file_path}\")\n",
    "                \n",
    "                # Export to CSV if requested (each query in a different CSV file)\n",
    "                if export_to_csv:\n",
    "                    csv_file_path = output_directory / f\"report_{i}_{pd.Timestamp.now().strftime('%d%m%Y%H%M%S')}.csv\"\n",
    "                    df.to_csv(csv_file_path, index=False)\n",
    "                    print(f\"Data from query {i} exported to CSV at {csv_file_path}\")\n",
    "\n",
    "            except exc.SQLAlchemyError as db_error:\n",
    "                print(f\"Database error occurred during query {i}: {db_error}\")\n",
    "            except Exception as e:\n",
    "                print(f\"An error occurred during query {i}: {e}\")\n",
    "\n",
    "        # Save the Excel file with all sheets after the loop finishes\n",
    "        if export_to_excel:\n",
    "            writer.close()  # Use close() instead of save()\n",
    "            print(f\"All data exported to {file_path}\")\n",
    "\n",
    "    else:\n",
    "        print(\"No database connection.\")\n",
    "\n",
    "# Example usage:\n",
    "# queries = [\"\"\"SELECT COLUMN_NAME, DATA_TYPE FROM INFORMATION_SCHEMA.COLUMNS WHERE TABLE_NAME = 'Customer';\"\"\", ...]\n",
    "# fetch_and_display_multiple_queries(engine, queries, pnum=20, export_to_excel=True)"
   ]
  },
  {
   "cell_type": "markdown",
   "metadata": {},
   "source": [
    "***\n",
    "\n",
    "### **Executing SQL Query to Fetch and Display Table Information**"
   ]
  },
  {
   "cell_type": "code",
   "execution_count": 4,
   "metadata": {},
   "outputs": [
    {
     "name": "stdout",
     "output_type": "stream",
     "text": [
      "Executing query 1:\n",
      "SELECT TABLE_SCHEMA, TABLE_NAME \n",
      "FROM INFORMATION_SCHEMA.TABLES\n",
      "+--------------+------------------------------+\n",
      "| TABLE_SCHEMA |          TABLE_NAME          |\n",
      "+--------------+------------------------------+\n",
      "|     dbo      |           ErrorLog           |\n",
      "|     dbo      |         BuildVersion         |\n",
      "|   SalesLT    |           Address            |\n",
      "|   SalesLT    |           Customer           |\n",
      "|   SalesLT    |       CustomerAddress        |\n",
      "|   SalesLT    |           Product            |\n",
      "|   SalesLT    |       ProductCategory        |\n",
      "|   SalesLT    |      ProductDescription      |\n",
      "|   SalesLT    |         ProductModel         |\n",
      "|   SalesLT    | ProductModelProductDescri... |\n",
      "|   SalesLT    |       SalesOrderDetail       |\n",
      "|   SalesLT    |       SalesOrderHeader       |\n",
      "|   SalesLT    |    vProductAndDescription    |\n",
      "|   SalesLT    | vProductModelCatalogDescr... |\n",
      "|   SalesLT    |      vGetAllCategories       |\n",
      "+--------------+------------------------------+\n",
      "Query 1 returned 15 records.\n",
      "\n"
     ]
    }
   ],
   "source": [
    "queries = [\"\"\"SELECT TABLE_SCHEMA, TABLE_NAME \n",
    "FROM INFORMATION_SCHEMA.TABLES\"\"\"]\n",
    "\n",
    "fetch_and_display_queries(engine, queries, pnum=20)"
   ]
  },
  {
   "cell_type": "code",
   "execution_count": 5,
   "metadata": {},
   "outputs": [
    {
     "name": "stdout",
     "output_type": "stream",
     "text": [
      "Executing query 1:\n",
      "SELECT COLUMN_NAME, DATA_TYPE\n",
      "FROM INFORMATION_SCHEMA.COLUMNS\n",
      "WHERE TABLE_NAME = 'Customer';\n",
      "+--------------+------------------+\n",
      "| COLUMN_NAME  |    DATA_TYPE     |\n",
      "+--------------+------------------+\n",
      "|  CustomerID  |       int        |\n",
      "|  NameStyle   |       bit        |\n",
      "|    Title     |     nvarchar     |\n",
      "|  FirstName   |     nvarchar     |\n",
      "|  MiddleName  |     nvarchar     |\n",
      "|   LastName   |     nvarchar     |\n",
      "|    Suffix    |     nvarchar     |\n",
      "| CompanyName  |     nvarchar     |\n",
      "| SalesPerson  |     nvarchar     |\n",
      "| EmailAddress |     nvarchar     |\n",
      "|    Phone     |     nvarchar     |\n",
      "| PasswordHash |     varchar      |\n",
      "| PasswordSalt |     varchar      |\n",
      "|   rowguid    | uniqueidentifier |\n",
      "| ModifiedDate |     datetime     |\n",
      "+--------------+------------------+\n",
      "Query 1 returned 15 records.\n",
      "\n",
      "Executing query 2:\n",
      "SELECT COLUMN_NAME, DATA_TYPE\n",
      "FROM INFORMATION_SCHEMA.COLUMNS\n",
      "WHERE TABLE_NAME = 'Product';\n",
      "+------------------------+------------------+\n",
      "|      COLUMN_NAME       |    DATA_TYPE     |\n",
      "+------------------------+------------------+\n",
      "|       ProductID        |       int        |\n",
      "|          Name          |     nvarchar     |\n",
      "|     ProductNumber      |     nvarchar     |\n",
      "|         Color          |     nvarchar     |\n",
      "|      StandardCost      |      money       |\n",
      "|       ListPrice        |      money       |\n",
      "|          Size          |     nvarchar     |\n",
      "|         Weight         |     decimal      |\n",
      "|   ProductCategoryID    |       int        |\n",
      "|     ProductModelID     |       int        |\n",
      "|     SellStartDate      |     datetime     |\n",
      "|      SellEndDate       |     datetime     |\n",
      "|    DiscontinuedDate    |     datetime     |\n",
      "|     ThumbNailPhoto     |    varbinary     |\n",
      "| ThumbnailPhotoFileName |     nvarchar     |\n",
      "|        rowguid         | uniqueidentifier |\n",
      "|      ModifiedDate      |     datetime     |\n",
      "+------------------------+------------------+\n",
      "Query 2 returned 17 records.\n",
      "\n",
      "Executing query 3:\n",
      "SELECT COLUMN_NAME, DATA_TYPE\n",
      "FROM INFORMATION_SCHEMA.COLUMNS\n",
      "WHERE TABLE_NAME = 'SalesOrderDetail';\n",
      "+--------------------+------------------+\n",
      "|    COLUMN_NAME     |    DATA_TYPE     |\n",
      "+--------------------+------------------+\n",
      "|    SalesOrderID    |       int        |\n",
      "| SalesOrderDetailID |       int        |\n",
      "|      OrderQty      |     smallint     |\n",
      "|     ProductID      |       int        |\n",
      "|     UnitPrice      |      money       |\n",
      "| UnitPriceDiscount  |      money       |\n",
      "|     LineTotal      |     numeric      |\n",
      "|      rowguid       | uniqueidentifier |\n",
      "|    ModifiedDate    |     datetime     |\n",
      "+--------------------+------------------+\n",
      "Query 3 returned 9 records.\n",
      "\n",
      "Executing query 4:\n",
      "SELECT COLUMN_NAME, DATA_TYPE\n",
      "FROM INFORMATION_SCHEMA.COLUMNS\n",
      "WHERE TABLE_NAME = 'ProductModel';\n",
      "+--------------------+------------------+\n",
      "|    COLUMN_NAME     |    DATA_TYPE     |\n",
      "+--------------------+------------------+\n",
      "|   ProductModelID   |       int        |\n",
      "|        Name        |     nvarchar     |\n",
      "| CatalogDescription |       xml        |\n",
      "|      rowguid       | uniqueidentifier |\n",
      "|    ModifiedDate    |     datetime     |\n",
      "+--------------------+------------------+\n",
      "Query 4 returned 5 records.\n",
      "\n"
     ]
    }
   ],
   "source": [
    "queries = [\"\"\"SELECT COLUMN_NAME, DATA_TYPE\n",
    "FROM INFORMATION_SCHEMA.COLUMNS\n",
    "WHERE TABLE_NAME = 'Customer';\"\"\",\n",
    "\n",
    "\"\"\"SELECT COLUMN_NAME, DATA_TYPE\n",
    "FROM INFORMATION_SCHEMA.COLUMNS\n",
    "WHERE TABLE_NAME = 'Product';\"\"\",\n",
    "\n",
    "\"\"\"SELECT COLUMN_NAME, DATA_TYPE\n",
    "FROM INFORMATION_SCHEMA.COLUMNS\n",
    "WHERE TABLE_NAME = 'SalesOrderDetail';\"\"\",\n",
    "\n",
    "\"\"\"SELECT COLUMN_NAME, DATA_TYPE\n",
    "FROM INFORMATION_SCHEMA.COLUMNS\n",
    "WHERE TABLE_NAME = 'ProductModel';\"\"\"\n",
    "]\n",
    "\n",
    "fetch_and_display_queries(engine, queries, pnum=20)"
   ]
  },
  {
   "cell_type": "code",
   "execution_count": 6,
   "metadata": {},
   "outputs": [
    {
     "name": "stdout",
     "output_type": "stream",
     "text": [
      "Executing query 1:\n",
      "SELECT FirstName, LastName, \n",
      "FirstName + ' ' + LastName AS FullName \n",
      "FROM SalesLT.Customer\n",
      "ORDER BY LastName DESC\n",
      "+-----------+-----------+-------------------+\n",
      "| FirstName |  LastName |      FullName     |\n",
      "+-----------+-----------+-------------------+\n",
      "|  Caroline |  Vicknair | Caroline Vicknair |\n",
      "|  Caroline |  Vicknair | Caroline Vicknair |\n",
      "|   Robert  |   Vessa   |    Robert Vessa   |\n",
      "|   Robert  |   Vessa   |    Robert Vessa   |\n",
      "|   Wanda   |   Vernon  |    Wanda Vernon   |\n",
      "|   Wanda   |   Vernon  |    Wanda Vernon   |\n",
      "|    Dora   |   Verdad  |    Dora Verdad    |\n",
      "|    Dora   |   Verdad  |    Dora Verdad    |\n",
      "|    Raja   | Venugopal |   Raja Venugopal  |\n",
      "|    Raja   | Venugopal |   Raja Venugopal  |\n",
      "+-----------+-----------+-------------------+\n",
      "Query 1 returned 847 records.\n",
      "\n"
     ]
    }
   ],
   "source": [
    "query = [\"\"\"SELECT FirstName, LastName, \n",
    "FirstName + ' ' + LastName AS FullName \n",
    "FROM SalesLT.Customer\n",
    "ORDER BY LastName DESC\"\"\"]\n",
    "\n",
    "fetch_and_display_queries(engine, query, 10)"
   ]
  },
  {
   "cell_type": "code",
   "execution_count": 7,
   "metadata": {},
   "outputs": [
    {
     "name": "stdout",
     "output_type": "stream",
     "text": [
      "Executing query 1:\n",
      "SELECT AVG(OrderQty) AS AverageQTY \n",
      "FROM SalesLT.SalesOrderDetail\n",
      "+------------+\n",
      "| AverageQTY |\n",
      "+------------+\n",
      "|     3      |\n",
      "+------------+\n",
      "Query 1 returned 1 records.\n",
      "\n",
      "Executing query 2:\n",
      "SELECT OrderQty, ProductID, UnitPrice, CASE\n",
      "WHEN OrderQty < 3 THEN N'کم فروش'\n",
      "WHEN OrderQty >= 3 THEN N'پرفروش'\n",
      "END AS SalesClass \n",
      "FROM SalesLT.SalesOrderDetail\n",
      "+----------+-----------+-----------+------------+\n",
      "| OrderQty | ProductID | UnitPrice | SalesClass |\n",
      "+----------+-----------+-----------+------------+\n",
      "|    1     |    836    |  356.898  |  کم فروش   |\n",
      "|    1     |    822    |  356.898  |  کم فروش   |\n",
      "|    1     |    907    |    63.9   |  کم فروش   |\n",
      "|    4     |    905    |  218.454  |   پرفروش   |\n",
      "|    2     |    983    |  461.694  |  کم فروش   |\n",
      "+----------+-----------+-----------+------------+\n",
      "Query 2 returned 542 records.\n",
      "\n"
     ]
    }
   ],
   "source": [
    "query = [\"\"\"SELECT AVG(OrderQty) AS AverageQTY \n",
    "FROM SalesLT.SalesOrderDetail\"\"\", \n",
    "\n",
    "\"\"\"SELECT OrderQty, ProductID, UnitPrice, CASE\n",
    "WHEN OrderQty < 3 THEN N'کم فروش'\n",
    "WHEN OrderQty >= 3 THEN N'پرفروش'\n",
    "END AS SalesClass \n",
    "FROM SalesLT.SalesOrderDetail\"\"\"]\n",
    "\n",
    "fetch_and_display_queries(engine, query, 5)"
   ]
  },
  {
   "cell_type": "code",
   "execution_count": 8,
   "metadata": {},
   "outputs": [
    {
     "name": "stdout",
     "output_type": "stream",
     "text": [
      "Executing query 1:\n",
      "SELECT COLUMN_NAME, DATA_TYPE\n",
      "FROM INFORMATION_SCHEMA.COLUMNS\n",
      "WHERE TABLE_NAME = 'Product';\n",
      "\n",
      "+------------------------+------------------+\n",
      "|      COLUMN_NAME       |    DATA_TYPE     |\n",
      "+------------------------+------------------+\n",
      "|       ProductID        |       int        |\n",
      "|          Name          |     nvarchar     |\n",
      "|     ProductNumber      |     nvarchar     |\n",
      "|         Color          |     nvarchar     |\n",
      "|      StandardCost      |      money       |\n",
      "|       ListPrice        |      money       |\n",
      "|          Size          |     nvarchar     |\n",
      "|         Weight         |     decimal      |\n",
      "|   ProductCategoryID    |       int        |\n",
      "|     ProductModelID     |       int        |\n",
      "|     SellStartDate      |     datetime     |\n",
      "|      SellEndDate       |     datetime     |\n",
      "|    DiscontinuedDate    |     datetime     |\n",
      "|     ThumbNailPhoto     |    varbinary     |\n",
      "| ThumbnailPhotoFileName |     nvarchar     |\n",
      "|        rowguid         | uniqueidentifier |\n",
      "|      ModifiedDate      |     datetime     |\n",
      "+------------------------+------------------+\n",
      "Query 1 returned 17 records.\n",
      "\n"
     ]
    }
   ],
   "source": [
    "query = [\"\"\"SELECT COLUMN_NAME, DATA_TYPE\n",
    "FROM INFORMATION_SCHEMA.COLUMNS\n",
    "WHERE TABLE_NAME = 'Product';\n",
    "\"\"\"]\n",
    "\n",
    "fetch_and_display_queries(engine, query, pnum=17)"
   ]
  },
  {
   "cell_type": "code",
   "execution_count": 9,
   "metadata": {},
   "outputs": [
    {
     "name": "stdout",
     "output_type": "stream",
     "text": [
      "Executing query 1:\n",
      "SELECT ProductNumber, StandardCost, Size, Weight \n",
      "FROM SalesLT.Product\n",
      "+---------------+--------------+------+---------+\n",
      "| ProductNumber | StandardCost | Size |  Weight |\n",
      "+---------------+--------------+------+---------+\n",
      "|   FR-R92B-58  |   1059.31    |  58  | 1016.04 |\n",
      "|   FR-R92R-58  |   1059.31    |  58  | 1016.04 |\n",
      "|   HL-U509-R   |   13.0863    | None |   nan   |\n",
      "|    HL-U509    |   13.0863    | None |   nan   |\n",
      "|   SO-B909-M   |    3.3963    |  M   |   nan   |\n",
      "|   SO-B909-L   |    3.3963    |  L   |   nan   |\n",
      "|   HL-U509-B   |   13.0863    | None |   nan   |\n",
      "|    CA-1098    |    6.9223    | None |   nan   |\n",
      "|   LJ-0192-S   |   38.4923    |  S   |   nan   |\n",
      "|   LJ-0192-M   |   38.4923    |  M   |   nan   |\n",
      "+---------------+--------------+------+---------+\n",
      "Query 1 returned 295 records.\n",
      "\n"
     ]
    }
   ],
   "source": [
    "query = [\"\"\"SELECT ProductNumber, StandardCost, Size, Weight \n",
    "FROM SalesLT.Product\"\"\"]\n",
    "\n",
    "fetch_and_display_queries(engine, query)"
   ]
  },
  {
   "cell_type": "code",
   "execution_count": 10,
   "metadata": {},
   "outputs": [
    {
     "name": "stdout",
     "output_type": "stream",
     "text": [
      "Executing query 1:\n",
      "SELECT AVG(YEAR(ModifiedDate)) AS DateAverage,\n",
      "Max(YEAR(ModifiedDate)) AS MaxYear,\n",
      "Min(YEAR(ModifiedDate)) AS MinYear\n",
      "FROM SalesLT.ProductDescription\n",
      "+-------------+---------+---------+\n",
      "| DateAverage | MaxYear | MinYear |\n",
      "+-------------+---------+---------+\n",
      "|     2007    |   2008  |   2007  |\n",
      "+-------------+---------+---------+\n",
      "Query 1 returned 1 records.\n",
      "\n"
     ]
    }
   ],
   "source": [
    "query = [\"\"\"SELECT AVG(YEAR(ModifiedDate)) AS DateAverage,\n",
    "Max(YEAR(ModifiedDate)) AS MaxYear,\n",
    "Min(YEAR(ModifiedDate)) AS MinYear\n",
    "FROM SalesLT.ProductDescription\"\"\"]\n",
    "\n",
    "fetch_and_display_queries(engine, query)"
   ]
  },
  {
   "cell_type": "code",
   "execution_count": 11,
   "metadata": {},
   "outputs": [
    {
     "name": "stdout",
     "output_type": "stream",
     "text": [
      "Executing query 1:\n",
      "SELECT FirstName, LastName, YEAR(ModifiedDate) AS FirstSale\n",
      "FROM SalesLT.Customer\n",
      "ORDER BY YEAR(ModifiedDate) DESC\n",
      "+-----------+-------------+-----------+\n",
      "| FirstName |   LastName  | FirstSale |\n",
      "+-----------+-------------+-----------+\n",
      "|  Margaret |    Smith    |    2009   |\n",
      "|  Frances  |    Adams    |    2009   |\n",
      "|    Jay    |    Adams    |    2009   |\n",
      "| Catherine |     Abel    |    2009   |\n",
      "|    Kim    | Abercrombie |    2009   |\n",
      "| Catherine |     Abel    |    2009   |\n",
      "|    Kim    | Abercrombie |    2009   |\n",
      "|  Frances  |    Adams    |    2009   |\n",
      "|  Margaret |    Smith    |    2009   |\n",
      "|    Jay    |    Adams    |    2009   |\n",
      "+-----------+-------------+-----------+\n",
      "Query 1 returned 847 records.\n",
      "\n"
     ]
    }
   ],
   "source": [
    "query = [\"\"\"SELECT FirstName, LastName, YEAR(ModifiedDate) AS FirstSale\n",
    "FROM SalesLT.Customer\n",
    "ORDER BY YEAR(ModifiedDate) DESC\"\"\"]\n",
    "\n",
    "fetch_and_display_queries(engine, query)"
   ]
  },
  {
   "cell_type": "code",
   "execution_count": 12,
   "metadata": {},
   "outputs": [
    {
     "name": "stdout",
     "output_type": "stream",
     "text": [
      "Executing query 1:\n",
      "SELECT CompanyName\n",
      "         FROM SalesLT.Customer\n",
      "+------------------------------+\n",
      "|         CompanyName          |\n",
      "+------------------------------+\n",
      "|         A Bike Store         |\n",
      "|      Progressive Sports      |\n",
      "|   Advanced Bike Components   |\n",
      "|    Modular Cycle Systems     |\n",
      "| Metropolitan Sports Suppl... |\n",
      "|   Aerobic Exercise Company   |\n",
      "|       Associated Bikes       |\n",
      "|     Rural Cycle Emporium     |\n",
      "|         Sharp Bikes          |\n",
      "|     Bikes and Motorbikes     |\n",
      "|     Bulk Discount Store      |\n",
      "|        Catalog Store         |\n",
      "|      Center Cycle Shop       |\n",
      "|    Central Discount Store    |\n",
      "|    Chic Department Stores    |\n",
      "|        Travel Systems        |\n",
      "|          Bike World          |\n",
      "|  Eastside Department Store   |\n",
      "|    Coalition Bike Company    |\n",
      "|    Commuter Bicycle Store    |\n",
      "+------------------------------+\n",
      "Query 1 returned 847 records.\n",
      "\n"
     ]
    }
   ],
   "source": [
    "query = [\"\"\"SELECT CompanyName\n",
    "         FROM SalesLT.Customer\"\"\"]\n",
    "\n",
    "fetch_and_display_queries(engine, query, pnum=20)"
   ]
  },
  {
   "cell_type": "code",
   "execution_count": 13,
   "metadata": {},
   "outputs": [
    {
     "name": "stdout",
     "output_type": "stream",
     "text": [
      "Executing query 1:\n",
      "SELECT FirstName, LastName, YEAR(ModifiedDate) AS FirstSale\n",
      "FROM SalesLT.Customer\n",
      "WHERE CompanyName = 'Coalition Bike Company'\n",
      "+-----------+----------+-----------+\n",
      "| FirstName | LastName | FirstSale |\n",
      "+-----------+----------+-----------+\n",
      "|   Donald  | Blanton  |    2006   |\n",
      "|   Donald  | Blanton  |    2006   |\n",
      "+-----------+----------+-----------+\n",
      "Query 1 returned 2 records.\n",
      "\n"
     ]
    }
   ],
   "source": [
    "query = [\"\"\"SELECT FirstName, LastName, YEAR(ModifiedDate) AS FirstSale\n",
    "FROM SalesLT.Customer\n",
    "WHERE CompanyName = 'Coalition Bike Company'\"\"\"]\n",
    "\n",
    "fetch_and_display_queries(engine, query)"
   ]
  },
  {
   "cell_type": "code",
   "execution_count": 14,
   "metadata": {},
   "outputs": [
    {
     "name": "stdout",
     "output_type": "stream",
     "text": [
      "Executing query 1:\n",
      "SELECT FirstName, LastName, YEAR(ModifiedDate) AS FirstSale\n",
      "FROM SalesLT.Customer\n",
      "WHERE CompanyName IN ('Bike World', 'Commuter Bicycle Store')\n",
      "+-----------+-----------+-----------+\n",
      "| FirstName |  LastName | FirstSale |\n",
      "+-----------+-----------+-----------+\n",
      "|   Kerim   |   Hanif   |    2006   |\n",
      "|   Jackie  | Blackwell |    2007   |\n",
      "|   Jackie  | Blackwell |    2007   |\n",
      "|   Kerim   |   Hanif   |    2006   |\n",
      "+-----------+-----------+-----------+\n",
      "Query 1 returned 4 records.\n",
      "\n"
     ]
    }
   ],
   "source": [
    "query = [\"\"\"SELECT FirstName, LastName, YEAR(ModifiedDate) AS FirstSale\n",
    "FROM SalesLT.Customer\n",
    "WHERE CompanyName IN ('Bike World', 'Commuter Bicycle Store')\"\"\"]\n",
    "\n",
    "fetch_and_display_queries(engine, query)"
   ]
  },
  {
   "cell_type": "code",
   "execution_count": 15,
   "metadata": {},
   "outputs": [
    {
     "name": "stdout",
     "output_type": "stream",
     "text": [
      "Executing query 1:\n",
      "SELECT FirstName, LastName, YEAR(ModifiedDate) AS FirstSale\n",
      "FROM SalesLT.Customer\n",
      "WHERE YEAR(ModifiedDate) = 2006\n",
      "+-------------+------------+-----------+\n",
      "|  FirstName  |  LastName  | FirstSale |\n",
      "+-------------+------------+-----------+\n",
      "|    Keith    |   Harris   |    2006   |\n",
      "|    Janet    |   Gates    |    2006   |\n",
      "|     Lucy    | Harrington |    2006   |\n",
      "|   Dominic   |    Gash    |    2006   |\n",
      "|   Kathleen  |   Garza    |    2006   |\n",
      "|    Johnny   |   Caprio   |    2006   |\n",
      "| Christopher |    Beck    |    2006   |\n",
      "|   Jinghao   |    Liu     |    2006   |\n",
      "|    Kerim    |   Hanif    |    2006   |\n",
      "|    Kevin    |    Liu     |    2006   |\n",
      "+-------------+------------+-----------+\n",
      "Query 1 returned 313 records.\n",
      "\n"
     ]
    }
   ],
   "source": [
    "query = [\"\"\"SELECT FirstName, LastName, YEAR(ModifiedDate) AS FirstSale\n",
    "FROM SalesLT.Customer\n",
    "WHERE YEAR(ModifiedDate) = 2006\"\"\"]\n",
    "\n",
    "fetch_and_display_queries(engine, query)"
   ]
  },
  {
   "cell_type": "code",
   "execution_count": 16,
   "metadata": {},
   "outputs": [
    {
     "name": "stdout",
     "output_type": "stream",
     "text": [
      "Executing query 1:\n",
      "SELECT DISTINCT(YEAR(ModifiedDate)) AS SaleYear,\n",
      "DATEDIFF(MONTH, modifieddate, GETDATE()) AS SaleCount \n",
      "FROM SalesLT.SalesOrderDetail\n",
      "+----------+-----------+\n",
      "| SaleYear | SaleCount |\n",
      "+----------+-----------+\n",
      "|   2008   |    196    |\n",
      "+----------+-----------+\n",
      "Query 1 returned 1 records.\n",
      "\n"
     ]
    }
   ],
   "source": [
    "query = [\"\"\"SELECT DISTINCT(YEAR(ModifiedDate)) AS SaleYear,\n",
    "DATEDIFF(MONTH, modifieddate, GETDATE()) AS SaleCount \n",
    "FROM SalesLT.SalesOrderDetail\"\"\"]\n",
    "\n",
    "fetch_and_display_queries(engine, query)"
   ]
  },
  {
   "cell_type": "code",
   "execution_count": 17,
   "metadata": {},
   "outputs": [
    {
     "name": "stdout",
     "output_type": "stream",
     "text": [
      "Executing query 1:\n",
      "SELECT CustomerID, FirstName, LastName , DATEDIFF(YEAR, ModifiedDate, GETDATE())\n",
      "AS experience, \n",
      "CASE \n",
      "WHEN DATEDIFF(YEAR, ModifiedDate, GETDATE()) > 18 THEN 'G1'\n",
      "WHEN DATEDIFF(YEAR, ModifiedDate, GETDATE()) <= 18 THEN 'G2'\n",
      "END AS experienceClass\n",
      "FROM SalesLT.Customer\n",
      "+------------+-----------+------------+------------+-----------------+\n",
      "| CustomerID | FirstName |  LastName  | experience | experienceClass |\n",
      "+------------+-----------+------------+------------+-----------------+\n",
      "|     1      |  Orlando  |    Gee     |     19     |        G1       |\n",
      "|     2      |   Keith   |   Harris   |     18     |        G2       |\n",
      "|     3      |   Donna   |  Carreras  |     19     |        G1       |\n",
      "|     4      |   Janet   |   Gates    |     18     |        G2       |\n",
      "|     5      |    Lucy   | Harrington |     18     |        G2       |\n",
      "|     6      |  Rosmarie |  Carroll   |     17     |        G2       |\n",
      "|     7      |  Dominic  |    Gash    |     18     |        G2       |\n",
      "|     10     |  Kathleen |   Garza    |     18     |        G2       |\n",
      "|     11     | Katherine |  Harding   |     19     |        G1       |\n",
      "|     12     |   Johnny  |   Caprio   |     18     |        G2       |\n",
      "+------------+-----------+------------+------------+-----------------+\n",
      "Query 1 returned 847 records.\n",
      "\n"
     ]
    }
   ],
   "source": [
    "query = [\"\"\"SELECT CustomerID, FirstName, LastName , DATEDIFF(YEAR, ModifiedDate, GETDATE())\n",
    "AS experience, \n",
    "CASE \n",
    "WHEN DATEDIFF(YEAR, ModifiedDate, GETDATE()) > 18 THEN 'G1'\n",
    "WHEN DATEDIFF(YEAR, ModifiedDate, GETDATE()) <= 18 THEN 'G2'\n",
    "END AS experienceClass\n",
    "FROM SalesLT.Customer\"\"\"]\n",
    "\n",
    "fetch_and_display_queries(engine, query)"
   ]
  },
  {
   "cell_type": "code",
   "execution_count": 18,
   "metadata": {},
   "outputs": [
    {
     "name": "stdout",
     "output_type": "stream",
     "text": [
      "Executing query 1:\n",
      "SELECT FirstName, LastName FROM SalesLT.Customer\n",
      "WHERE FirstName like 'B%'\n",
      "+-----------+-----------+\n",
      "| FirstName |  LastName |\n",
      "+-----------+-----------+\n",
      "|   Bryan   |  Hamilton |\n",
      "|  Barbara  |   German  |\n",
      "|   Betty   |   Haines  |\n",
      "|   Brian   |   Groth   |\n",
      "|   Bonnie  |   Lepro   |\n",
      "|   Brigid  | Cavendish |\n",
      "|   Blaine  |  Dockter  |\n",
      "|   Brenda  |    Diaz   |\n",
      "|   Brian   |  Johnson  |\n",
      "|   Barry   |  Johnson  |\n",
      "+-----------+-----------+\n",
      "Query 1 returned 46 records.\n",
      "\n"
     ]
    }
   ],
   "source": [
    "query = [\"\"\"SELECT FirstName, LastName FROM SalesLT.Customer\n",
    "WHERE FirstName like 'B%'\"\"\"]\n",
    "\n",
    "fetch_and_display_queries(engine, query)"
   ]
  },
  {
   "cell_type": "code",
   "execution_count": 19,
   "metadata": {},
   "outputs": [
    {
     "name": "stdout",
     "output_type": "stream",
     "text": [
      "Executing query 1:\n",
      "SELECT ProductID, isnull(UnitPrice, 0)\n",
      "AS NewPrice\n",
      "FROM SalesLT.SalesOrderDetail\n",
      "ORDER BY NewPrice\n",
      "+-----------+----------+\n",
      "| ProductID | NewPrice |\n",
      "+-----------+----------+\n",
      "|    873    |  1.374   |\n",
      "|    873    |  1.374   |\n",
      "|    873    |  1.374   |\n",
      "|    870    |  2.8942  |\n",
      "|    870    |  2.8942  |\n",
      "|    870    |  2.994   |\n",
      "|    870    |  2.994   |\n",
      "|    870    |  2.994   |\n",
      "|    870    |  2.994   |\n",
      "|    870    |  2.994   |\n",
      "+-----------+----------+\n",
      "Query 1 returned 542 records.\n",
      "\n"
     ]
    }
   ],
   "source": [
    "query = [\"\"\"SELECT ProductID, isnull(UnitPrice, 0)\n",
    "AS NewPrice\n",
    "FROM SalesLT.SalesOrderDetail\n",
    "ORDER BY NewPrice\"\"\"]\n",
    "\n",
    "fetch_and_display_queries(engine, query)"
   ]
  },
  {
   "cell_type": "code",
   "execution_count": 20,
   "metadata": {},
   "outputs": [
    {
     "name": "stdout",
     "output_type": "stream",
     "text": [
      "Executing query 1:\n",
      "SELECT TOP 3 UnitPrice, ProductID\n",
      "         FROM SalesLT.SalesOrderDetail\n",
      "         ORDER BY UnitPrice DESC\n",
      "+-----------+-----------+\n",
      "| UnitPrice | ProductID |\n",
      "+-----------+-----------+\n",
      "|  1466.01  |    793    |\n",
      "|  1466.01  |    794    |\n",
      "|  1466.01  |    795    |\n",
      "+-----------+-----------+\n",
      "Query 1 returned 3 records.\n",
      "\n"
     ]
    }
   ],
   "source": [
    "query = [\"\"\"SELECT TOP 3 UnitPrice, ProductID\n",
    "         FROM SalesLT.SalesOrderDetail\n",
    "         ORDER BY UnitPrice DESC\"\"\"]\n",
    "\n",
    "fetch_and_display_queries(engine, query)"
   ]
  },
  {
   "cell_type": "code",
   "execution_count": 21,
   "metadata": {},
   "outputs": [
    {
     "name": "stdout",
     "output_type": "stream",
     "text": [
      "Executing query 1:\n",
      "SELECT FirstName, LastName \n",
      "         FROM SalesLT.Customer\n",
      "         ORDER BY LastName DESC\n",
      "+-----------+-----------+\n",
      "| FirstName |  LastName |\n",
      "+-----------+-----------+\n",
      "|  Caroline |  Vicknair |\n",
      "|  Caroline |  Vicknair |\n",
      "|   Robert  |   Vessa   |\n",
      "|   Robert  |   Vessa   |\n",
      "|   Wanda   |   Vernon  |\n",
      "|   Wanda   |   Vernon  |\n",
      "|    Dora   |   Verdad  |\n",
      "|    Dora   |   Verdad  |\n",
      "|    Raja   | Venugopal |\n",
      "|    Raja   | Venugopal |\n",
      "+-----------+-----------+\n",
      "Query 1 returned 847 records.\n",
      "\n"
     ]
    }
   ],
   "source": [
    "query = [\"\"\"SELECT FirstName, LastName \n",
    "         FROM SalesLT.Customer\n",
    "         ORDER BY LastName DESC\"\"\"]\n",
    "\n",
    "fetch_and_display_queries(engine, query)"
   ]
  },
  {
   "cell_type": "code",
   "execution_count": 22,
   "metadata": {},
   "outputs": [
    {
     "name": "stdout",
     "output_type": "stream",
     "text": [
      "Executing query 1:\n",
      "SELECT TOP 6 FirstName, LastName, CustomerID\n",
      "         FROM SalesLT.Customer\n",
      "         ORDER BY ModifiedDate DESC\n",
      "+-----------+----------+------------+\n",
      "| FirstName | LastName | CustomerID |\n",
      "+-----------+----------+------------+\n",
      "|    Jay    |  Adams   |    544     |\n",
      "|    Jay    |  Adams   |   29492    |\n",
      "|  Margaret |  Smith   |    488     |\n",
      "|  Margaret |  Smith   |   29490    |\n",
      "|  Frances  |  Adams   |    491     |\n",
      "|  Frances  |  Adams   |   29489    |\n",
      "+-----------+----------+------------+\n",
      "Query 1 returned 6 records.\n",
      "\n"
     ]
    }
   ],
   "source": [
    "query = [\"\"\"SELECT TOP 6 FirstName, LastName, CustomerID\n",
    "         FROM SalesLT.Customer\n",
    "         ORDER BY ModifiedDate DESC\"\"\"]\n",
    "\n",
    "fetch_and_display_queries(engine, query)"
   ]
  },
  {
   "cell_type": "code",
   "execution_count": 23,
   "metadata": {},
   "outputs": [
    {
     "name": "stdout",
     "output_type": "stream",
     "text": [
      "Executing query 1:\n",
      "SELECT ProductID, UnitPrice\n",
      "         FROM SalesLT.SalesOrderDetail \n",
      "         WHERE UnitPrice BETWEEN 7 AND 20\n",
      "+-----------+-----------+\n",
      "| ProductID | UnitPrice |\n",
      "+-----------+-----------+\n",
      "|    859    |   14.694  |\n",
      "|    859    |   14.694  |\n",
      "|    858    |   14.694  |\n",
      "|    860    |   14.694  |\n",
      "|    711    |  19.2445  |\n",
      "|    858    |   14.694  |\n",
      "|    859    |   14.694  |\n",
      "|    860    |   14.694  |\n",
      "|    859    |   14.694  |\n",
      "|    858    |   14.694  |\n",
      "+-----------+-----------+\n",
      "Query 1 returned 20 records.\n",
      "\n"
     ]
    }
   ],
   "source": [
    "query = [\"\"\"SELECT ProductID, UnitPrice\n",
    "         FROM SalesLT.SalesOrderDetail \n",
    "         WHERE UnitPrice BETWEEN 7 AND 20\"\"\"]\n",
    "\n",
    "fetch_and_display_queries(engine, query)"
   ]
  },
  {
   "cell_type": "code",
   "execution_count": 24,
   "metadata": {},
   "outputs": [
    {
     "name": "stdout",
     "output_type": "stream",
     "text": [
      "Executing query 1:\n",
      "select ProductModelID AS ModelID, Name, YEAR(ModifiedDate) AS Year\n",
      "         FROM SalesLT.ProductModel\n",
      "         WHERE YEAR(ModifiedDate) < 2006\n",
      "         \n",
      "+---------+-------------------------+------+\n",
      "| ModelID |           Name          | Year |\n",
      "+---------+-------------------------+------+\n",
      "|    2    |       Cycling Cap       | 2005 |\n",
      "|    5    |    HL Mountain Frame    | 2005 |\n",
      "|    6    |      HL Road Frame      | 2002 |\n",
      "|    9    |      LL Road Frame      | 2005 |\n",
      "|    11   | Long-Sleeve Logo Jersey | 2005 |\n",
      "|    16   |      ML Road Frame      | 2005 |\n",
      "|    18   |   Mountain Bike Socks   | 2005 |\n",
      "|    19   |       Mountain-100      | 2005 |\n",
      "|    25   |         Road-150        | 2005 |\n",
      "|    28   |         Road-450        | 2005 |\n",
      "+---------+-------------------------+------+\n",
      "Query 1 returned 13 records.\n",
      "\n"
     ]
    }
   ],
   "source": [
    "query = [\"\"\"select ProductModelID AS ModelID, Name, YEAR(ModifiedDate) AS Year\n",
    "         FROM SalesLT.ProductModel\n",
    "         WHERE YEAR(ModifiedDate) < 2006\n",
    "         \"\"\"]\n",
    "\n",
    "fetch_and_display_queries(engine, query)"
   ]
  },
  {
   "cell_type": "code",
   "execution_count": 25,
   "metadata": {},
   "outputs": [
    {
     "name": "stdout",
     "output_type": "stream",
     "text": [
      "Executing query 1:\n",
      "SELECT\n",
      "AVG(UnitPrice) as AvgPrice,\n",
      "Max(UnitPrice) as MaxPrice,\n",
      "Min(UnitPrice) as MinPrice\n",
      "FROM SalesLT.SalesOrderDetail\n",
      "+----------+----------+----------+\n",
      "| AvgPrice | MaxPrice | MinPrice |\n",
      "+----------+----------+----------+\n",
      "|  382.87  | 1466.01  |  1.374   |\n",
      "+----------+----------+----------+\n",
      "Query 1 returned 1 records.\n",
      "\n"
     ]
    }
   ],
   "source": [
    "query = [\"\"\"SELECT\n",
    "AVG(UnitPrice) as AvgPrice,\n",
    "Max(UnitPrice) as MaxPrice,\n",
    "Min(UnitPrice) as MinPrice\n",
    "FROM SalesLT.SalesOrderDetail\"\"\"]\n",
    "\n",
    "fetch_and_display_queries(engine, query)"
   ]
  },
  {
   "cell_type": "code",
   "execution_count": 26,
   "metadata": {},
   "outputs": [
    {
     "name": "stdout",
     "output_type": "stream",
     "text": [
      "Executing query 1:\n",
      "SELECT COUNT(*) AS NumberOfProducts FROM SalesLT.Product\n",
      "+------------------+\n",
      "| NumberOfProducts |\n",
      "+------------------+\n",
      "|       295        |\n",
      "+------------------+\n",
      "Query 1 returned 1 records.\n",
      "\n"
     ]
    }
   ],
   "source": [
    "query = [\"SELECT COUNT(*) AS NumberOfProducts FROM SalesLT.Product\"]\n",
    "\n",
    "fetch_and_display_queries(engine, query)"
   ]
  },
  {
   "cell_type": "code",
   "execution_count": 39,
   "metadata": {},
   "outputs": [
    {
     "name": "stdout",
     "output_type": "stream",
     "text": [
      "Executing query 1:\n",
      "select count(*) AS CountOfShopping,\n",
      "year(ModifiedDate) as FirstShopping\n",
      "from SalesLT.Customer\n",
      "group by year(ModifiedDate)\n",
      "order by CountOfShopping desc\n",
      "+-----------------+---------------+\n",
      "| CountOfShopping | FirstShopping |\n",
      "+-----------------+---------------+\n",
      "|       313       |      2006     |\n",
      "|       308       |      2005     |\n",
      "|       210       |      2007     |\n",
      "|        10       |      2009     |\n",
      "|        6        |      2008     |\n",
      "+-----------------+---------------+\n",
      "Query 1 returned 5 records.\n",
      "\n"
     ]
    }
   ],
   "source": [
    "query = [\"\"\"select count(*) AS CountOfShopping,\n",
    "year(ModifiedDate) as FirstShopping\n",
    "from SalesLT.Customer\n",
    "group by year(ModifiedDate)\n",
    "order by CountOfShopping desc\"\"\"]\n",
    "\n",
    "fetch_and_display_queries(engine, query)"
   ]
  },
  {
   "cell_type": "code",
   "execution_count": 44,
   "metadata": {},
   "outputs": [
    {
     "name": "stdout",
     "output_type": "stream",
     "text": [
      "Executing query 1:\n",
      "\n",
      "select count(*) as CountOfShopping,\n",
      "YEAR(ModifiedDate) as FirstShopping\n",
      "from SalesLT.Customer\n",
      "group by YEAR(ModifiedDate)\n",
      "having count(*) > 200\n",
      "order by CountOfShopping desc\n",
      "+-----------------+---------------+\n",
      "| CountOfShopping | FirstShopping |\n",
      "+-----------------+---------------+\n",
      "|       313       |      2006     |\n",
      "|       308       |      2005     |\n",
      "|       210       |      2007     |\n",
      "+-----------------+---------------+\n",
      "Query 1 returned 3 records.\n",
      "\n"
     ]
    }
   ],
   "source": [
    "query = [\"\"\"\n",
    "select count(*) as CountOfShopping,\n",
    "YEAR(ModifiedDate) as FirstShopping\n",
    "from SalesLT.Customer\n",
    "group by YEAR(ModifiedDate)\n",
    "having count(*) > 200\n",
    "order by CountOfShopping desc\"\"\"]\n",
    "\n",
    "fetch_and_display_queries(engine, query)"
   ]
  },
  {
   "cell_type": "code",
   "execution_count": 46,
   "metadata": {},
   "outputs": [
    {
     "name": "stdout",
     "output_type": "stream",
     "text": [
      "Executing query 1:\n",
      "select count(*) as CountOfCustomer \n",
      "from SalesLT.Customer\n",
      "\n",
      "+-----------------+\n",
      "| CountOfCustomer |\n",
      "+-----------------+\n",
      "|       847       |\n",
      "+-----------------+\n",
      "Query 1 returned 1 records.\n",
      "\n"
     ]
    }
   ],
   "source": [
    "query = [\"\"\"select count(*) as CountOfCustomer \n",
    "from SalesLT.Customer\n",
    "\"\"\"]\n",
    "\n",
    "fetch_and_display_queries(engine, query)"
   ]
  }
 ],
 "metadata": {
  "kernelspec": {
   "display_name": "Python 3",
   "language": "python",
   "name": "python3"
  },
  "language_info": {
   "codemirror_mode": {
    "name": "ipython",
    "version": 3
   },
   "file_extension": ".py",
   "mimetype": "text/x-python",
   "name": "python",
   "nbconvert_exporter": "python",
   "pygments_lexer": "ipython3",
   "version": "3.12.4"
  }
 },
 "nbformat": 4,
 "nbformat_minor": 2
}

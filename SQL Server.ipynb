{
 "cells": [
  {
   "cell_type": "markdown",
   "metadata": {},
   "source": [
    "<section style=\"direction: ltr; text-align: center; margin: 30px;\">\n",
    "\n",
    "# **SQL-Fundamentals-Farsi**\n",
    "\n",
    "</section>\n",
    "\n",
    "<section style=\"direction: ltr; text-align: justyfy; margin: 30px;\">\n",
    "\n",
    "This project offers a versatile and automated solution for generating database reports in structured formats. By leveraging popular Python libraries such as Pandas, SQLAlchemy, and Openpyxl, it simplifies the process of extracting, displaying, and exporting data from SQL Server databases. With the added ability to handle both Excel and CSV outputs, it provides a flexible tool for data analysis and reporting needs.\n",
    "\n",
    "</section>\n",
    "\n",
    "---\n"
   ]
  },
  {
   "cell_type": "markdown",
   "metadata": {},
   "source": [
    "### **Calling the SQL Server Connection Function**\n"
   ]
  },
  {
   "cell_type": "code",
   "execution_count": 2,
   "metadata": {},
   "outputs": [],
   "source": [
    "import pandas as pd\n",
    "from sqlalchemy import create_engine\n",
    "from sqlalchemy.exc import SQLAlchemyError\n",
    "import logging\n",
    "\n",
    "# Configure logging\n",
    "logging.basicConfig(\n",
    "    level=logging.INFO, format=\"%(asctime)s - %(levelname)s - %(message)s\"\n",
    ")\n",
    "\n",
    "\n",
    "def create_connection(server, database, username=None, password=None):\n",
    "    \"\"\"\n",
    "    Create a connection to the SQL Server database using SQLAlchemy.\n",
    "\n",
    "    Parameters:\n",
    "    - server: str, the name of the SQL Server\n",
    "    - database: str, the name of the database\n",
    "    - username: str, optional, SQL Server username (for SQL authentication)\n",
    "    - password: str, optional, SQL Server password (for SQL authentication)\n",
    "\n",
    "    Returns:\n",
    "    - engine: sqlalchemy.engine.base.Engine, the SQLAlchemy engine object or None if the connection fails\n",
    "    \"\"\"\n",
    "    try:\n",
    "        if username and password:\n",
    "            connection_string = f\"mssql+pyodbc://{username}:{password}@{server}/{database}?driver=ODBC+Driver+17+for+SQL+Server\"\n",
    "        else:\n",
    "            connection_string = f\"mssql+pyodbc://{server}/{database}?driver=ODBC+Driver+17+for+SQL+Server\"\n",
    "\n",
    "        engine = create_engine(connection_string)\n",
    "\n",
    "        # Test connection\n",
    "        with engine.connect() as conn:\n",
    "            logging.info(\"Connection successful!\")\n",
    "\n",
    "        return engine\n",
    "\n",
    "    except SQLAlchemyError as e:\n",
    "        logging.error(f\"Connection failed: {e}\")\n",
    "        return None"
   ]
  },
  {
   "cell_type": "markdown",
   "metadata": {},
   "source": [
    "---\n",
    "\n",
    "### **Check if the database connection is successful**\n"
   ]
  },
  {
   "cell_type": "code",
   "execution_count": 3,
   "metadata": {},
   "outputs": [
    {
     "name": "stderr",
     "output_type": "stream",
     "text": [
      "2024-10-26 21:45:01,153 - INFO - Connection successful!\n",
      "2024-10-26 21:45:01,154 - INFO - Database connection established successfully.\n",
      "2024-10-26 21:45:01,155 - INFO - Server: imsalione-pc\\imsalionedb\n",
      "2024-10-26 21:45:01,156 - INFO - Database: pubs\n"
     ]
    }
   ],
   "source": [
    "def check_connection(engine):\n",
    "    if engine:\n",
    "        logging.info(\"Database connection established successfully.\")\n",
    "        logging.info(f\"Server: {server}\")\n",
    "        logging.info(f\"Database: {database}\")\n",
    "        return True\n",
    "    else:\n",
    "        logging.error(\"Failed to establish database connection.\")\n",
    "        return False\n",
    "\n",
    "\n",
    "# Call the create_connection function\n",
    "server = r\"imsalione-pc\\imsalionedb\"\n",
    "database = \"pubs\"\n",
    "\n",
    "engine = create_connection(server, database)\n",
    "\n",
    "# Use the check_connection function to verify the connection\n",
    "if check_connection(engine):\n",
    "    # Proceed with database operations\n",
    "    pass\n",
    "else:\n",
    "    # Handle the failed connection\n",
    "    pass"
   ]
  },
  {
   "cell_type": "markdown",
   "metadata": {},
   "source": [
    "---\n",
    "\n",
    "### **Fetching and Displaying Data from SQL Server**\n"
   ]
  },
  {
   "cell_type": "code",
   "execution_count": 4,
   "metadata": {},
   "outputs": [],
   "source": [
    "import pandas as pd\n",
    "from sqlalchemy import exc\n",
    "from pathlib import Path\n",
    "from prettytable import PrettyTable\n",
    "\n",
    "# Define the directory where you want to save the report files\n",
    "output_directory = Path(\"C:/Reports\")  # Adjust the path as needed\n",
    "output_directory.mkdir(parents=True, exist_ok=True)  # Ensure the directory exists\n",
    "\n",
    "\n",
    "def truncate(value, width):\n",
    "    return str(value)[:width] + \"...\" if len(str(value)) > width else str(value)\n",
    "\n",
    "\n",
    "def fetch_and_display_queries(\n",
    "    engine,\n",
    "    queries,\n",
    "    pnum=10,\n",
    "    export_to_excel=False,\n",
    "    export_to_csv=False,\n",
    "    display_tail=False,\n",
    "):\n",
    "    \"\"\"\n",
    "    Fetch data from multiple SQL queries and optionally export to Excel or CSV.\n",
    "\n",
    "    Parameters:\n",
    "    - engine: SQLAlchemy engine object.\n",
    "    - queries: List of SQL query strings.\n",
    "    - pnum: int, number of rows to display (default is 10).\n",
    "    - export_to_excel: bool, whether to export data to an Excel file (default is False).\n",
    "    - export_to_csv: bool, whether to export data to a CSV file (default is False).\n",
    "    - display_tail: bool, whether to display the last pnum rows (default is False).\n",
    "    \"\"\"\n",
    "\n",
    "    if engine:\n",
    "        # If exporting to Excel, create the writer object for the single file\n",
    "        if export_to_excel:\n",
    "            file_path = (\n",
    "                output_directory\n",
    "                / f\"report_{pd.Timestamp.now().strftime('%d%m%Y%H%M%S')}.xlsx\"\n",
    "            )\n",
    "            writer = pd.ExcelWriter(file_path, engine=\"openpyxl\")\n",
    "\n",
    "        for i, query in enumerate(queries, 1):\n",
    "\n",
    "            print(f\"Executing query {i}:\\n{query}\")\n",
    "            try:\n",
    "                # Load data into a pandas DataFrame\n",
    "                df = pd.read_sql(query, engine)\n",
    "\n",
    "                # Display the first or last pnum rows based on display_tail parameter\n",
    "                table = PrettyTable()\n",
    "                table.field_names = df.columns\n",
    "\n",
    "                if display_tail:\n",
    "                    rows = df.iloc[-pnum:].itertuples(index=False)\n",
    "                else:\n",
    "                    rows = df.iloc[:pnum].itertuples(index=False)\n",
    "\n",
    "                for row in rows:\n",
    "                    table.add_row([truncate(value, 25) for value in row])\n",
    "\n",
    "                print(table)\n",
    "\n",
    "                # Print the number of records in the query result\n",
    "                record_count = len(df)\n",
    "                print(f\"Query {i} returned {record_count} records.\\n\")\n",
    "\n",
    "                # Export to Excel in different sheets if requested\n",
    "                if export_to_excel:\n",
    "                    sheet_name = f\"Query_{i}\"\n",
    "                    df.to_excel(writer, sheet_name=sheet_name, index=False)\n",
    "                    print(\n",
    "                        f\"Data from query {i} exported to sheet {sheet_name} in {file_path}\"\n",
    "                    )\n",
    "\n",
    "                # Export to CSV if requested (each query in a different CSV file)\n",
    "                if export_to_csv:\n",
    "                    csv_file_path = (\n",
    "                        output_directory\n",
    "                        / f\"report_{i}_{pd.Timestamp.now().strftime('%d%m%Y%H%M%S')}.csv\"\n",
    "                    )\n",
    "                    df.to_csv(csv_file_path, index=False)\n",
    "                    print(f\"Data from query {i} exported to CSV at {csv_file_path}\")\n",
    "\n",
    "            except exc.SQLAlchemyError as db_error:\n",
    "                print(f\"Database error occurred during query {i}: {db_error}\")\n",
    "            except Exception as e:\n",
    "                print(f\"An error occurred during query {i}: {e}\")\n",
    "\n",
    "        # Save the Excel file with all sheets after the loop finishes\n",
    "        if export_to_excel:\n",
    "            writer.close()  # Use close() instead of save()\n",
    "            print(f\"All data exported to {file_path}\")\n",
    "\n",
    "    else:\n",
    "        print(\"No database connection.\")\n",
    "\n",
    "\n",
    "# Example usage:\n",
    "# queries = [\"\"\"SELECT COLUMN_NAME, DATA_TYPE FROM INFORMATION_SCHEMA.COLUMNS WHERE TABLE_NAME = 'Customer';\"\"\", ...]\n",
    "# fetch_and_display_multiple_queries(engine, queries, pnum=20, export_to_excel=True, export_to_csv=True, sidplay_tail=True)"
   ]
  },
  {
   "cell_type": "markdown",
   "metadata": {},
   "source": [
    "---\n",
    "\n",
    "### **Executing SQL Query to Fetch and Display Table Information**\n"
   ]
  },
  {
   "cell_type": "code",
   "execution_count": 5,
   "metadata": {},
   "outputs": [
    {
     "name": "stdout",
     "output_type": "stream",
     "text": [
      "Executing query 1:\n",
      "SELECT TABLE_SCHEMA, TABLE_NAME \n",
      "FROM INFORMATION_SCHEMA.TABLES\n",
      "+--------------+-------------+\n",
      "| TABLE_SCHEMA |  TABLE_NAME |\n",
      "+--------------+-------------+\n",
      "|     dbo      | sysdiagrams |\n",
      "|     dbo      |   authors   |\n",
      "|     dbo      |  publishers |\n",
      "|     dbo      |    titles   |\n",
      "|     dbo      | titleauthor |\n",
      "|     dbo      |    stores   |\n",
      "|     dbo      |   roysched  |\n",
      "|     dbo      |  discounts  |\n",
      "|     dbo      |     jobs    |\n",
      "|     dbo      |   pub_info  |\n",
      "|     dbo      |   employee  |\n",
      "|     dbo      |  titleview  |\n",
      "|     dbo      |    sales    |\n",
      "+--------------+-------------+\n",
      "Query 1 returned 13 records.\n",
      "\n"
     ]
    }
   ],
   "source": [
    "queries = [\n",
    "    \"\"\"SELECT TABLE_SCHEMA, TABLE_NAME \n",
    "FROM INFORMATION_SCHEMA.TABLES\"\"\"\n",
    "]\n",
    "\n",
    "fetch_and_display_queries(engine, queries, pnum=20)"
   ]
  },
  {
   "cell_type": "code",
   "execution_count": 6,
   "metadata": {},
   "outputs": [
    {
     "name": "stdout",
     "output_type": "stream",
     "text": [
      "Executing query 1:\n",
      "SELECT au_fname + ' ' + au_lname as N'نام کامل'\n",
      "           FROM dbo.authors\n",
      "+-------------------------+\n",
      "|         نام کامل        |\n",
      "+-------------------------+\n",
      "|      Abraham Bennet     |\n",
      "| Reginald Blotchet-Halls |\n",
      "|      Cheryl Carson      |\n",
      "|     Michel DeFrance     |\n",
      "|    Innes del Castillo   |\n",
      "|         Ann Dull        |\n",
      "|      Marjorie Green     |\n",
      "|    Morningstar Greene   |\n",
      "|     Burt Gringlesby     |\n",
      "|      Sheryl Hunter      |\n",
      "+-------------------------+\n",
      "Query 1 returned 23 records.\n",
      "\n"
     ]
    }
   ],
   "source": [
    "queries = [\n",
    "    \"\"\"SELECT au_fname + ' ' + au_lname as N'نام کامل'\n",
    "           FROM dbo.authors\"\"\"\n",
    "]\n",
    "\n",
    "fetch_and_display_queries(engine, queries, pnum=10)"
   ]
  },
  {
   "cell_type": "code",
   "execution_count": 7,
   "metadata": {},
   "outputs": [
    {
     "name": "stdout",
     "output_type": "stream",
     "text": [
      "Executing query 1:\n",
      "SELECT fname, lname, job_id FROM employee\n",
      "+-----------+-----------+--------+\n",
      "|   fname   |   lname   | job_id |\n",
      "+-----------+-----------+--------+\n",
      "|   Paolo   |  Accorti  |   13   |\n",
      "|   Pedro   |   Afonso  |   14   |\n",
      "|  Victoria |  Ashworth |   6    |\n",
      "|   Helen   |  Bennett  |   12   |\n",
      "|   Lesley  |   Brown   |   7    |\n",
      "| Francisco |   Chang   |   4    |\n",
      "|   Philip  |   Cramer  |   2    |\n",
      "|    Aria   |    Cruz   |   10   |\n",
      "|    Ann    |   Devon   |   3    |\n",
      "|  Anabela  | Domingues |   8    |\n",
      "+-----------+-----------+--------+\n",
      "Query 1 returned 43 records.\n",
      "\n"
     ]
    }
   ],
   "source": [
    "query = [\"\"\"SELECT fname, lname, job_id FROM employee\"\"\"]\n",
    "\n",
    "fetch_and_display_queries(engine, query, 10)"
   ]
  },
  {
   "cell_type": "code",
   "execution_count": 8,
   "metadata": {},
   "outputs": [
    {
     "name": "stdout",
     "output_type": "stream",
     "text": [
      "Executing query 1:\n",
      "SELECT emp_id, fname + ' ' + lname AS FullName, hire_date\n",
      "         FROM dbo.employee\n",
      "         ORDER BY hire_date DESC\n",
      "+-----------+------------------+---------------------+\n",
      "|   emp_id  |     FullName     |      hire_date      |\n",
      "+-----------+------------------+---------------------+\n",
      "| MGK44605M | Matti Karttunen  | 1994-05-01 00:00:00 |\n",
      "| KJJ92907F | Karla Jablonski  | 1994-03-11 00:00:00 |\n",
      "| PSP68661F |  Paula Parente   | 1994-01-19 00:00:00 |\n",
      "| POK93028M | Pirkko Koskitalo | 1993-11-29 00:00:00 |\n",
      "| RBM23061F |   Rita Muller    | 1993-10-09 00:00:00 |\n",
      "+-----------+------------------+---------------------+\n",
      "Query 1 returned 43 records.\n",
      "\n"
     ]
    }
   ],
   "source": [
    "query = [\n",
    "    \"\"\"SELECT emp_id, fname + ' ' + lname AS FullName, hire_date\n",
    "         FROM dbo.employee\n",
    "         ORDER BY hire_date DESC\"\"\"\n",
    "]\n",
    "\n",
    "fetch_and_display_queries(engine, query, pnum=5)"
   ]
  },
  {
   "cell_type": "code",
   "execution_count": 9,
   "metadata": {},
   "outputs": [
    {
     "name": "stdout",
     "output_type": "stream",
     "text": [
      "Executing query 1:\n",
      "SELECT emp_id, fname + ' ' + lname AS FullName, MONTH(hire_date) AS MonthHireDate\n",
      "         FROM dbo.employee\n",
      "         ORDER BY MONTH(hire_date) DESC\n",
      "\n",
      "+-----------+------------------+---------------+\n",
      "|   emp_id  |     FullName     | MonthHireDate |\n",
      "+-----------+------------------+---------------+\n",
      "| PSA89086M |   Pedro Afonso   |       12      |\n",
      "| MAP77183M |  Miguel Paolino  |       12      |\n",
      "| DWR65030M |    Diego Roel    |       12      |\n",
      "| POK93028M | Pirkko Koskitalo |       11      |\n",
      "| F-C16315M | Francisco Chang  |       11      |\n",
      "| PTC11962M |  Philip Cramer   |       11      |\n",
      "| HAS54740M |  Howard Snyder   |       11      |\n",
      "| A-C71970F |    Aria Cruz     |       10      |\n",
      "| KFJ64308F |  Karin Josephs   |       10      |\n",
      "| RBM23061F |   Rita Muller    |       10      |\n",
      "+-----------+------------------+---------------+\n",
      "Query 1 returned 43 records.\n",
      "\n"
     ]
    }
   ],
   "source": [
    "query = [\n",
    "    \"\"\"SELECT emp_id, fname + ' ' + lname AS FullName, MONTH(hire_date) AS MonthHireDate\n",
    "         FROM dbo.employee\n",
    "         ORDER BY MONTH(hire_date) DESC\n",
    "\"\"\"\n",
    "]\n",
    "\n",
    "fetch_and_display_queries(engine, query, pnum=10)"
   ]
  },
  {
   "cell_type": "code",
   "execution_count": 10,
   "metadata": {},
   "outputs": [
    {
     "name": "stdout",
     "output_type": "stream",
     "text": [
      "Executing query 1:\n",
      "SELECT * FROM publishers\n",
      "         WHERE  country = 'usa'\n",
      "+--------+-----------------------+------------+-------+---------+\n",
      "| pub_id |        pub_name       |    city    | state | country |\n",
      "+--------+-----------------------+------------+-------+---------+\n",
      "|  0736  |     New Moon Books    |   Boston   |   MA  |   USA   |\n",
      "|  0877  |    Binnet & Hardley   | Washington |   DC  |   USA   |\n",
      "|  1389  |  Algodata Infosystems |  Berkeley  |   CA  |   USA   |\n",
      "|  1622  | Five Lakes Publishing |  Chicago   |   IL  |   USA   |\n",
      "|  1756  |   Ramona Publishers   |   Dallas   |   TX  |   USA   |\n",
      "|  9952  |     Scootney Books    |  New York  |   NY  |   USA   |\n",
      "+--------+-----------------------+------------+-------+---------+\n",
      "Query 1 returned 6 records.\n",
      "\n"
     ]
    }
   ],
   "source": [
    "query = [\n",
    "    \"\"\"SELECT * FROM publishers\n",
    "         WHERE  country = 'usa'\"\"\"\n",
    "]\n",
    "\n",
    "fetch_and_display_queries(engine, query)"
   ]
  },
  {
   "cell_type": "code",
   "execution_count": 11,
   "metadata": {},
   "outputs": [
    {
     "name": "stdout",
     "output_type": "stream",
     "text": [
      "Executing query 1:\n",
      "SELECT * FROM publishers\n",
      "         WHERE country in ('Germany', 'France')\n",
      "+--------+--------------------+---------+-------+---------+\n",
      "| pub_id |      pub_name      |   city  | state | country |\n",
      "+--------+--------------------+---------+-------+---------+\n",
      "|  9901  |       GGG&G        | M?nchen |  None | Germany |\n",
      "|  9999  | Lucerne Publishing |  Paris  |  None |  France |\n",
      "+--------+--------------------+---------+-------+---------+\n",
      "Query 1 returned 2 records.\n",
      "\n"
     ]
    }
   ],
   "source": [
    "query = [\n",
    "    \"\"\"SELECT * FROM publishers\n",
    "         WHERE country in ('Germany', 'France')\"\"\"\n",
    "]\n",
    "\n",
    "fetch_and_display_queries(engine, query)"
   ]
  },
  {
   "cell_type": "code",
   "execution_count": 12,
   "metadata": {},
   "outputs": [
    {
     "name": "stdout",
     "output_type": "stream",
     "text": [
      "Executing query 1:\n",
      "SELECT * FROM sales\n",
      "         WHERE YEAR(ord_date) = 1993\n",
      "+----+---------+---------+---------------------+-----+------------+----------+\n",
      "| id | stor_id | ord_num |       ord_date      | qty |  payterms  | title_id |\n",
      "+----+---------+---------+---------------------+-----+------------+----------+\n",
      "| 3  |   7066  |  A2976  | 1993-05-24 00:00:00 |  50 |   Net 30   |  PC8888  |\n",
      "| 11 |   7131  |  P3087a | 1993-05-29 00:00:00 |  20 |   Net 60   |  PS1372  |\n",
      "| 12 |   7131  |  P3087a | 1993-05-29 00:00:00 |  25 |   Net 60   |  PS2106  |\n",
      "| 13 |   7131  |  P3087a | 1993-05-29 00:00:00 |  15 |   Net 60   |  PS3333  |\n",
      "| 14 |   7131  |  P3087a | 1993-05-29 00:00:00 |  25 |   Net 60   |  PS7777  |\n",
      "| 15 |   7896  |  QQ2299 | 1993-10-28 00:00:00 |  15 |   Net 60   |  BU7832  |\n",
      "| 16 |   7896  |  TQ456  | 1993-12-12 00:00:00 |  10 |   Net 60   |  MC2222  |\n",
      "| 17 |   7896  |   X999  | 1993-02-21 00:00:00 |  35 | ON invoice |  BU2075  |\n",
      "| 20 |   8042  |   P723  | 1993-03-11 00:00:00 |  25 |   Net 30   |  BU1111  |\n",
      "| 21 |   8042  | QA879.1 | 1993-05-22 00:00:00 |  30 |   Net 30   |  PC1035  |\n",
      "+----+---------+---------+---------------------+-----+------------+----------+\n",
      "Query 1 returned 10 records.\n",
      "\n"
     ]
    }
   ],
   "source": [
    "query = [\n",
    "    \"\"\"SELECT * FROM sales\n",
    "         WHERE YEAR(ord_date) = 1993\"\"\"\n",
    "]\n",
    "\n",
    "fetch_and_display_queries(engine, query)"
   ]
  },
  {
   "cell_type": "code",
   "execution_count": 13,
   "metadata": {},
   "outputs": [
    {
     "name": "stdout",
     "output_type": "stream",
     "text": [
      "Executing query 1:\n",
      "SELECT *, CASE WHEN qty < 30 THEN N'کم فروش'\n",
      "         WHEN qty >= 30 THEN N'پر فروش'\n",
      "         END AS SalesClass\n",
      "         FROM Sales\n",
      "+----+---------+----------+---------------------+-----+------------+----------+------------+\n",
      "| id | stor_id | ord_num  |       ord_date      | qty |  payterms  | title_id | SalesClass |\n",
      "+----+---------+----------+---------------------+-----+------------+----------+------------+\n",
      "| 1  |   6380  |   6871   | 1994-09-14 00:00:00 |  5  |   Net 60   |  BU1032  |  کم فروش   |\n",
      "| 2  |   6380  |   722a   | 1994-09-13 00:00:00 |  3  |   Net 60   |  PS2091  |  کم فروش   |\n",
      "| 3  |   7066  |  A2976   | 1993-05-24 00:00:00 |  50 |   Net 30   |  PC8888  |  پر فروش   |\n",
      "| 4  |   7066  | QA7442.3 | 1994-09-13 00:00:00 |  75 | ON invoice |  PS2091  |  پر فروش   |\n",
      "| 5  |   7067  |  D4482   | 1994-09-14 00:00:00 |  10 |   Net 60   |  PS2091  |  کم فروش   |\n",
      "| 6  |   7067  |  P2121   | 1992-06-15 00:00:00 |  40 |   Net 30   |  TC3218  |  پر فروش   |\n",
      "| 7  |   7067  |  P2121   | 1992-06-15 00:00:00 |  20 |   Net 30   |  TC4203  |  کم فروش   |\n",
      "| 8  |   7067  |  P2121   | 1992-06-15 00:00:00 |  20 |   Net 30   |  TC7777  |  کم فروش   |\n",
      "| 9  |   7131  | N914008  | 1994-09-14 00:00:00 |  20 |   Net 30   |  PS2091  |  کم فروش   |\n",
      "| 10 |   7131  | N914014  | 1994-09-14 00:00:00 |  25 |   Net 30   |  MC3021  |  کم فروش   |\n",
      "+----+---------+----------+---------------------+-----+------------+----------+------------+\n",
      "Query 1 returned 21 records.\n",
      "\n"
     ]
    }
   ],
   "source": [
    "query = [\n",
    "    \"\"\"SELECT *, CASE WHEN qty < 30 THEN N'کم فروش'\n",
    "         WHEN qty >= 30 THEN N'پر فروش'\n",
    "         END AS SalesClass\n",
    "         FROM Sales\"\"\"\n",
    "]\n",
    "\n",
    "fetch_and_display_queries(engine, query)"
   ]
  },
  {
   "cell_type": "code",
   "execution_count": 14,
   "metadata": {},
   "outputs": [
    {
     "name": "stdout",
     "output_type": "stream",
     "text": [
      "Executing query 1:\n",
      "SELECT emp_id, fname, lname, DATEDIFF(year, hire_date, GETDATE()) \n",
      "         AS Experience\n",
      "         FROM employee\n",
      "+-----------+-----------+-----------+------------+\n",
      "|   emp_id  |   fname   |   lname   | Experience |\n",
      "+-----------+-----------+-----------+------------+\n",
      "| PMA42628M |   Paolo   |  Accorti  |     32     |\n",
      "| PSA89086M |   Pedro   |   Afonso  |     34     |\n",
      "| VPA30890F |  Victoria |  Ashworth |     34     |\n",
      "| H-B39728F |   Helen   |  Bennett  |     35     |\n",
      "| L-B31947F |   Lesley  |   Brown   |     33     |\n",
      "| F-C16315M | Francisco |   Chang   |     34     |\n",
      "| PTC11962M |   Philip  |   Cramer  |     35     |\n",
      "| A-C71970F |    Aria   |    Cruz   |     33     |\n",
      "| AMD15433F |    Ann    |   Devon   |     33     |\n",
      "| ARD36773F |  Anabela  | Domingues |     31     |\n",
      "+-----------+-----------+-----------+------------+\n",
      "Query 1 returned 43 records.\n",
      "\n"
     ]
    }
   ],
   "source": [
    "query = [\n",
    "    \"\"\"SELECT emp_id, fname, lname, DATEDIFF(year, hire_date, GETDATE()) \n",
    "         AS Experience\n",
    "         FROM employee\"\"\"\n",
    "]\n",
    "\n",
    "fetch_and_display_queries(engine, query)"
   ]
  },
  {
   "cell_type": "code",
   "execution_count": 15,
   "metadata": {},
   "outputs": [
    {
     "name": "stdout",
     "output_type": "stream",
     "text": [
      "Executing query 1:\n",
      "SELECT emp_id, fname, lname, DATEDIFF(YEAR, hire_date, GETDATE())\n",
      "         AS Experience,\n",
      "         CASE WHEN DATEDIFF(YEAR, hire_date, GETDATE()) > 30 THEN 'G1'\n",
      "         WHEN DATEDIFF(YEAR, hire_date, GETDATE()) <= 30 THEN 'G2'\n",
      "         END AS ExperinceClass\n",
      "         FROM employee\n",
      "+-----------+-----------+-----------+------------+----------------+\n",
      "|   emp_id  |   fname   |   lname   | Experience | ExperinceClass |\n",
      "+-----------+-----------+-----------+------------+----------------+\n",
      "| PMA42628M |   Paolo   |  Accorti  |     32     |       G1       |\n",
      "| PSA89086M |   Pedro   |   Afonso  |     34     |       G1       |\n",
      "| VPA30890F |  Victoria |  Ashworth |     34     |       G1       |\n",
      "| H-B39728F |   Helen   |  Bennett  |     35     |       G1       |\n",
      "| L-B31947F |   Lesley  |   Brown   |     33     |       G1       |\n",
      "| F-C16315M | Francisco |   Chang   |     34     |       G1       |\n",
      "| PTC11962M |   Philip  |   Cramer  |     35     |       G1       |\n",
      "| A-C71970F |    Aria   |    Cruz   |     33     |       G1       |\n",
      "| AMD15433F |    Ann    |   Devon   |     33     |       G1       |\n",
      "| ARD36773F |  Anabela  | Domingues |     31     |       G1       |\n",
      "+-----------+-----------+-----------+------------+----------------+\n",
      "Query 1 returned 43 records.\n",
      "\n"
     ]
    }
   ],
   "source": [
    "query = [\n",
    "    \"\"\"SELECT emp_id, fname, lname, DATEDIFF(YEAR, hire_date, GETDATE())\n",
    "         AS Experience,\n",
    "         CASE WHEN DATEDIFF(YEAR, hire_date, GETDATE()) > 30 THEN 'G1'\n",
    "         WHEN DATEDIFF(YEAR, hire_date, GETDATE()) <= 30 THEN 'G2'\n",
    "         END AS ExperinceClass\n",
    "         FROM employee\"\"\"\n",
    "]\n",
    "\n",
    "fetch_and_display_queries(engine, query)"
   ]
  },
  {
   "cell_type": "code",
   "execution_count": 16,
   "metadata": {},
   "outputs": [
    {
     "name": "stdout",
     "output_type": "stream",
     "text": [
      "Executing query 1:\n",
      "SELECT * FROM sales\n",
      "         WHERE title_id LIKE 'B%'\n",
      "+----+---------+----------+---------------------+-----+------------+----------+\n",
      "| id | stor_id | ord_num  |       ord_date      | qty |  payterms  | title_id |\n",
      "+----+---------+----------+---------------------+-----+------------+----------+\n",
      "| 1  |   6380  |   6871   | 1994-09-14 00:00:00 |  5  |   Net 60   |  BU1032  |\n",
      "| 15 |   7896  |  QQ2299  | 1993-10-28 00:00:00 |  15 |   Net 60   |  BU7832  |\n",
      "| 17 |   7896  |   X999   | 1993-02-21 00:00:00 |  35 | ON invoice |  BU2075  |\n",
      "| 19 |   8042  | 423LL930 | 1994-09-14 00:00:00 |  10 | ON invoice |  BU1032  |\n",
      "| 20 |   8042  |   P723   | 1993-03-11 00:00:00 |  25 |   Net 30   |  BU1111  |\n",
      "+----+---------+----------+---------------------+-----+------------+----------+\n",
      "Query 1 returned 5 records.\n",
      "\n"
     ]
    }
   ],
   "source": [
    "query = [\n",
    "    \"\"\"SELECT * FROM sales\n",
    "         WHERE title_id LIKE 'B%'\"\"\"\n",
    "]\n",
    "\n",
    "fetch_and_display_queries(engine, query)"
   ]
  },
  {
   "cell_type": "code",
   "execution_count": 17,
   "metadata": {},
   "outputs": [
    {
     "name": "stdout",
     "output_type": "stream",
     "text": [
      "Executing query 1:\n",
      "SELECT title, type, price FROM titles\n",
      "         WHERE price IS NULL\n",
      "+------------------------------+--------------+-------+\n",
      "|            title             |     type     | price |\n",
      "+------------------------------+--------------+-------+\n",
      "| The Psychology of Compute... | UNDECIDED    |  None |\n",
      "|        Net Etiquette         | popular_comp |  None |\n",
      "+------------------------------+--------------+-------+\n",
      "Query 1 returned 2 records.\n",
      "\n"
     ]
    }
   ],
   "source": [
    "query = [\n",
    "    \"\"\"SELECT title, type, price FROM titles\n",
    "         WHERE price IS NULL\"\"\"\n",
    "]\n",
    "\n",
    "fetch_and_display_queries(engine, query)"
   ]
  },
  {
   "cell_type": "code",
   "execution_count": 18,
   "metadata": {},
   "outputs": [
    {
     "name": "stdout",
     "output_type": "stream",
     "text": [
      "Executing query 1:\n",
      "SELECT title, type, ISNULL(price, 0) AS NewPrice\n",
      "         FROM titles\n",
      "         ORDER BY NewPrice DESC\n",
      "+------------------------------+--------------+----------+\n",
      "|            title             |     type     | NewPrice |\n",
      "+------------------------------+--------------+----------+\n",
      "|      Life Without Fear       | psychology   |   7.0    |\n",
      "| You Can Combat Computer S... | business     |   2.99   |\n",
      "|    The Gourmet Microwave     | mod_cook     |   2.99   |\n",
      "| The Psychology of Compute... | UNDECIDED    |   0.0    |\n",
      "|        Net Etiquette         | popular_comp |   0.0    |\n",
      "+------------------------------+--------------+----------+\n",
      "Query 1 returned 18 records.\n",
      "\n"
     ]
    }
   ],
   "source": [
    "query = [\n",
    "    \"\"\"SELECT title, type, ISNULL(price, 0) AS NewPrice\n",
    "         FROM titles\n",
    "         ORDER BY NewPrice DESC\"\"\"\n",
    "]\n",
    "\n",
    "fetch_and_display_queries(engine, query, pnum=5, display_tail=True)"
   ]
  },
  {
   "cell_type": "markdown",
   "metadata": {},
   "source": [
    "---\n",
    "\n",
    "### 15- Three books with the highest price\n"
   ]
  },
  {
   "cell_type": "code",
   "execution_count": 19,
   "metadata": {},
   "outputs": [
    {
     "name": "stdout",
     "output_type": "stream",
     "text": [
      "Executing query 1:\n",
      "SELECT TOP 3 title, type, price\n",
      "         FROM titles\n",
      "         ORDER BY price DESC\n",
      "+------------------------------+--------------+-------+\n",
      "|            title             |     type     | price |\n",
      "+------------------------------+--------------+-------+\n",
      "|   But Is It User Friendly?   | popular_comp | 22.95 |\n",
      "| Computer Phobic AND Non-P... | psychology   | 21.59 |\n",
      "| Onions, Leeks, and Garlic... | trad_cook    | 20.95 |\n",
      "+------------------------------+--------------+-------+\n",
      "Query 1 returned 3 records.\n",
      "\n"
     ]
    }
   ],
   "source": [
    "query = [\n",
    "    \"\"\"SELECT TOP 3 title, type, price\n",
    "         FROM titles\n",
    "         ORDER BY price DESC\"\"\"\n",
    "]\n",
    "\n",
    "fetch_and_display_queries(engine, query)"
   ]
  },
  {
   "cell_type": "markdown",
   "metadata": {},
   "source": [
    "---\n",
    "\n",
    "### 16- Three newly hired employees\n"
   ]
  },
  {
   "cell_type": "code",
   "execution_count": 20,
   "metadata": {},
   "outputs": [
    {
     "name": "stdout",
     "output_type": "stream",
     "text": [
      "Executing query 1:\n",
      "SELECT TOP 3 fname, lname\n",
      "         FROM employee\n",
      "         ORDER BY hire_date DESC\n",
      "+-------+-----------+\n",
      "| fname |   lname   |\n",
      "+-------+-----------+\n",
      "| Matti | Karttunen |\n",
      "| Karla | Jablonski |\n",
      "| Paula |  Parente  |\n",
      "+-------+-----------+\n",
      "Query 1 returned 3 records.\n",
      "\n"
     ]
    }
   ],
   "source": [
    "query = [\n",
    "    \"\"\"SELECT TOP 3 fname, lname\n",
    "         FROM employee\n",
    "         ORDER BY hire_date DESC\"\"\"\n",
    "]\n",
    "\n",
    "fetch_and_display_queries(engine, query)"
   ]
  },
  {
   "cell_type": "markdown",
   "metadata": {},
   "source": [
    "---\n",
    "\n",
    "### 17- Books whose price is in a certain range\n"
   ]
  },
  {
   "cell_type": "code",
   "execution_count": 21,
   "metadata": {},
   "outputs": [
    {
     "name": "stdout",
     "output_type": "stream",
     "text": [
      "Executing query 1:\n",
      "SELECT title, type, price \n",
      "         FROM titles\n",
      "         WHERE price between 7 and 20\n",
      "+------------------------------+--------------+-------+\n",
      "|            title             |     type     | price |\n",
      "+------------------------------+--------------+-------+\n",
      "| The Busy Executive's Data... | business     | 19.99 |\n",
      "| Cooking with Computers: S... | business     | 11.95 |\n",
      "| Straight Talk About Compu... | business     | 19.99 |\n",
      "| Silicon Valley Gastronomi... | mod_cook     | 19.99 |\n",
      "|  Secrets of Silicon Valley   | popular_comp |  20.0 |\n",
      "|     Is Anger the Enemy?      | psychology   | 10.95 |\n",
      "|      Life Without Fear       | psychology   |  7.0  |\n",
      "| Prolonged Data Deprivatio... | psychology   | 19.99 |\n",
      "| Emotional Security: A New... | psychology   |  7.99 |\n",
      "| Fifty Years in Buckingham... | trad_cook    | 11.95 |\n",
      "+------------------------------+--------------+-------+\n",
      "Query 1 returned 11 records.\n",
      "\n"
     ]
    }
   ],
   "source": [
    "query = [\n",
    "    \"\"\"SELECT title, type, price \n",
    "         FROM titles\n",
    "         WHERE price between 7 and 20\"\"\"\n",
    "]\n",
    "\n",
    "fetch_and_display_queries(engine, query)"
   ]
  },
  {
   "cell_type": "markdown",
   "metadata": {},
   "source": [
    "---\n",
    "\n",
    "### 18- Books published after a certain year\n"
   ]
  },
  {
   "cell_type": "code",
   "execution_count": 22,
   "metadata": {},
   "outputs": [
    {
     "name": "stdout",
     "output_type": "stream",
     "text": [
      "Executing query 1:\n",
      "SELECT title, type, YEAR(pubdate) AS PublishedDate\n",
      "         FROM titles\n",
      "         WHERE YEAR(pubdate) > 1991\n",
      "+------------------------------+--------------+---------------+\n",
      "|            title             |     type     | PublishedDate |\n",
      "+------------------------------+--------------+---------------+\n",
      "| The Psychology of Compute... | UNDECIDED    |      2023     |\n",
      "|  Secrets of Silicon Valley   | popular_comp |      1994     |\n",
      "|        Net Etiquette         | popular_comp |      2023     |\n",
      "+------------------------------+--------------+---------------+\n",
      "Query 1 returned 3 records.\n",
      "\n"
     ]
    }
   ],
   "source": [
    "query = [\n",
    "    \"\"\"SELECT title, type, YEAR(pubdate) AS PublishedDate\n",
    "         FROM titles\n",
    "         WHERE YEAR(pubdate) > 1991\"\"\"\n",
    "]\n",
    "\n",
    "fetch_and_display_queries(engine, query)"
   ]
  },
  {
   "cell_type": "markdown",
   "metadata": {},
   "source": [
    "---\n",
    "\n",
    "### 19- Calculation operation on the price of books\n"
   ]
  },
  {
   "cell_type": "code",
   "execution_count": 23,
   "metadata": {},
   "outputs": [
    {
     "name": "stdout",
     "output_type": "stream",
     "text": [
      "Executing query 1:\n",
      "SELECT SUM(price) AS SumPrice,\n",
      "         AVG(price) AS AVGPrice,\n",
      "         MAX(price) AS MAXPrice,\n",
      "         MIN(price) AS MINPrice\n",
      "         FROM titles\n",
      "+----------+----------+----------+----------+\n",
      "| SumPrice | AVGPrice | MAXPrice | MINPrice |\n",
      "+----------+----------+----------+----------+\n",
      "|  236.26  | 14.7662  |  22.95   |   2.99   |\n",
      "+----------+----------+----------+----------+\n",
      "Query 1 returned 1 records.\n",
      "\n"
     ]
    }
   ],
   "source": [
    "query = [\n",
    "    \"\"\"SELECT SUM(price) AS SumPrice,\n",
    "         AVG(price) AS AVGPrice,\n",
    "         MAX(price) AS MAXPrice,\n",
    "         MIN(price) AS MINPrice\n",
    "         FROM titles\"\"\"\n",
    "]\n",
    "\n",
    "fetch_and_display_queries(engine, query)"
   ]
  },
  {
   "cell_type": "markdown",
   "metadata": {},
   "source": [
    "---\n",
    "\n",
    "### 20- Calculate the total number of authors\n"
   ]
  },
  {
   "cell_type": "code",
   "execution_count": 24,
   "metadata": {},
   "outputs": [
    {
     "name": "stdout",
     "output_type": "stream",
     "text": [
      "Executing query 1:\n",
      "SELECT COUNT(*) AS NumberOfAuthors\n",
      "         FROM authors\n",
      "+-----------------+\n",
      "| NumberOfAuthors |\n",
      "+-----------------+\n",
      "|        23       |\n",
      "+-----------------+\n",
      "Query 1 returned 1 records.\n",
      "\n"
     ]
    }
   ],
   "source": [
    "query = [\n",
    "    \"\"\"SELECT COUNT(*) AS NumberOfAuthors\n",
    "         FROM authors\"\"\"\n",
    "]\n",
    "\n",
    "fetch_and_display_queries(engine, query)"
   ]
  },
  {
   "cell_type": "markdown",
   "metadata": {},
   "source": [
    "---\n",
    "\n",
    "### 21- Average calculation for each book category\n"
   ]
  },
  {
   "cell_type": "code",
   "execution_count": 25,
   "metadata": {},
   "outputs": [
    {
     "name": "stdout",
     "output_type": "stream",
     "text": [
      "Executing query 1:\n",
      "SELECT type, AVG(price) AS PriceAvege\n",
      "         FROM titles\n",
      "         GROUP BY type\n",
      "+--------------+------------+\n",
      "|     type     | PriceAvege |\n",
      "+--------------+------------+\n",
      "| business     |   13.73    |\n",
      "| mod_cook     |   11.49    |\n",
      "| popular_comp |   21.475   |\n",
      "| psychology   |   13.504   |\n",
      "| trad_cook    |  15.9633   |\n",
      "| UNDECIDED    |    nan     |\n",
      "+--------------+------------+\n",
      "Query 1 returned 6 records.\n",
      "\n"
     ]
    }
   ],
   "source": [
    "query = [\n",
    "    \"\"\"SELECT type, AVG(price) AS PriceAvege\n",
    "         FROM titles\n",
    "         GROUP BY type\"\"\"\n",
    "]\n",
    "\n",
    "fetch_and_display_queries(engine, query)"
   ]
  },
  {
   "cell_type": "markdown",
   "metadata": {},
   "source": [
    "---\n",
    "\n",
    "### 22- The number of employed people by year\n"
   ]
  },
  {
   "cell_type": "code",
   "execution_count": 26,
   "metadata": {},
   "outputs": [
    {
     "name": "stdout",
     "output_type": "stream",
     "text": [
      "Executing query 1:\n",
      "SELECT COUNT(*) AS NumberOfHiredEmployee,\n",
      "         YEAR(hire_date) AS YearOfHiring\n",
      "         FROM employee\n",
      "         GROUP BY YEAR(hire_date)\n",
      "         ORDER BY NumberOfHiredEmployee DESC\n",
      "+-----------------------+--------------+\n",
      "| NumberOfHiredEmployee | YearOfHiring |\n",
      "+-----------------------+--------------+\n",
      "|           8           |     1990     |\n",
      "|           7           |     1991     |\n",
      "|           7           |     1992     |\n",
      "|           7           |     1993     |\n",
      "|           7           |     1989     |\n",
      "|           4           |     1988     |\n",
      "|           3           |     1994     |\n",
      "+-----------------------+--------------+\n",
      "Query 1 returned 7 records.\n",
      "\n"
     ]
    }
   ],
   "source": [
    "query = [\n",
    "    \"\"\"SELECT COUNT(*) AS NumberOfHiredEmployee,\n",
    "         YEAR(hire_date) AS YearOfHiring\n",
    "         FROM employee\n",
    "         GROUP BY YEAR(hire_date)\n",
    "         ORDER BY NumberOfHiredEmployee DESC\"\"\"\n",
    "]\n",
    "\n",
    "fetch_and_display_queries(engine, query)"
   ]
  },
  {
   "cell_type": "markdown",
   "metadata": {},
   "source": [
    "---\n",
    "\n",
    "### 23- Calculation of years with a certain number of employees\n"
   ]
  },
  {
   "cell_type": "code",
   "execution_count": 27,
   "metadata": {},
   "outputs": [
    {
     "name": "stdout",
     "output_type": "stream",
     "text": [
      "Executing query 1:\n",
      "SELECT COUNT(*) AS NumberOfHiredEmployee,\n",
      "         YEAR(hire_date) AS YEAROfHiring\n",
      "         FROM employee\n",
      "         GROUP BY YEAR(hire_date)\n",
      "         HAVING COUNT(*) > 5\n",
      "         ORDER BY NumberOfHiredEmployee DESC\n",
      "+-----------------------+--------------+\n",
      "| NumberOfHiredEmployee | YEAROfHiring |\n",
      "+-----------------------+--------------+\n",
      "|           8           |     1990     |\n",
      "|           7           |     1991     |\n",
      "|           7           |     1992     |\n",
      "|           7           |     1993     |\n",
      "|           7           |     1989     |\n",
      "+-----------------------+--------------+\n",
      "Query 1 returned 5 records.\n",
      "\n"
     ]
    }
   ],
   "source": [
    "query = [\n",
    "    \"\"\"SELECT COUNT(*) AS NumberOfHiredEmployee,\n",
    "         YEAR(hire_date) AS YEAROfHiring\n",
    "         FROM employee\n",
    "         GROUP BY YEAR(hire_date)\n",
    "         HAVING COUNT(*) > 5\n",
    "         ORDER BY NumberOfHiredEmployee DESC\"\"\"\n",
    "]\n",
    "\n",
    "fetch_and_display_queries(engine, query)"
   ]
  },
  {
   "cell_type": "markdown",
   "metadata": {},
   "source": [
    "---\n",
    "\n",
    "### 24- Number of authors by state\n"
   ]
  },
  {
   "cell_type": "code",
   "execution_count": 28,
   "metadata": {},
   "outputs": [
    {
     "name": "stdout",
     "output_type": "stream",
     "text": [
      "Executing query 1:\n",
      "SELECT COUNT(*) AS NumberOfAuthors,\n",
      "         state\n",
      "         FROM authors\n",
      "         GROUP BY state\n",
      "         ORDER BY NumberOfAuthors DESC\n",
      "+-----------------+-------+\n",
      "| NumberOfAuthors | state |\n",
      "+-----------------+-------+\n",
      "|        15       |   CA  |\n",
      "|        2        |   UT  |\n",
      "|        1        |   IN  |\n",
      "|        1        |   KS  |\n",
      "|        1        |   MD  |\n",
      "|        1        |   MI  |\n",
      "|        1        |   OR  |\n",
      "|        1        |   TN  |\n",
      "+-----------------+-------+\n",
      "Query 1 returned 8 records.\n",
      "\n"
     ]
    }
   ],
   "source": [
    "query = [\n",
    "    \"\"\"SELECT COUNT(*) AS NumberOfAuthors,\n",
    "         state\n",
    "         FROM authors\n",
    "         GROUP BY state\n",
    "         ORDER BY NumberOfAuthors DESC\"\"\"\n",
    "]\n",
    "\n",
    "fetch_and_display_queries(engine, query)"
   ]
  },
  {
   "cell_type": "markdown",
   "metadata": {},
   "source": [
    "---\n",
    "\n",
    "### 25- Average price of books by year\n"
   ]
  },
  {
   "cell_type": "code",
   "execution_count": 29,
   "metadata": {},
   "outputs": [
    {
     "name": "stdout",
     "output_type": "stream",
     "text": [
      "Executing query 1:\n",
      "SELECT YEAR(pubdate) AS PubkicationYear,\n",
      "         AVG(price) AS AveragePrice\n",
      "         FROM titles\n",
      "         GROUP BY YEAR(pubdate)\n",
      "+-----------------+--------------+\n",
      "| PubkicationYear | AveragePrice |\n",
      "+-----------------+--------------+\n",
      "|       1991      |   14.4173    |\n",
      "|       1994      |     20.0     |\n",
      "|       2023      |     nan      |\n",
      "+-----------------+--------------+\n",
      "Query 1 returned 3 records.\n",
      "\n"
     ]
    }
   ],
   "source": [
    "query = [\n",
    "    \"\"\"SELECT YEAR(pubdate) AS PubkicationYear,\n",
    "         AVG(price) AS AveragePrice\n",
    "         FROM titles\n",
    "         GROUP BY YEAR(pubdate)\"\"\"\n",
    "]\n",
    "\n",
    "fetch_and_display_queries(engine, query)"
   ]
  },
  {
   "cell_type": "markdown",
   "metadata": {},
   "source": [
    "---\n",
    "\n",
    "### 26- List of unique cities in the database\n"
   ]
  },
  {
   "cell_type": "code",
   "execution_count": 30,
   "metadata": {},
   "outputs": [
    {
     "name": "stdout",
     "output_type": "stream",
     "text": [
      "Executing query 1:\n",
      "SELECT DISTINCT city FROM authors\n",
      "+------------+\n",
      "|    city    |\n",
      "+------------+\n",
      "| Ann Arbor  |\n",
      "|  Berkeley  |\n",
      "| Corvallis  |\n",
      "|   Covelo   |\n",
      "|    Gary    |\n",
      "|  Lawrence  |\n",
      "| Menlo Park |\n",
      "| Nashville  |\n",
      "|  Oakland   |\n",
      "| Palo Alto  |\n",
      "+------------+\n",
      "Query 1 returned 16 records.\n",
      "\n"
     ]
    }
   ],
   "source": [
    "query = [\"\"\"SELECT DISTINCT city FROM authors\"\"\"]\n",
    "\n",
    "fetch_and_display_queries(engine, query)"
   ]
  },
  {
   "cell_type": "markdown",
   "metadata": {},
   "source": [
    "---\n",
    "\n",
    "### 27- List of books with the name of the publishing company\n"
   ]
  },
  {
   "cell_type": "code",
   "execution_count": 31,
   "metadata": {},
   "outputs": [
    {
     "name": "stdout",
     "output_type": "stream",
     "text": [
      "Executing query 1:\n",
      "SELECT title_id, title, pub_name\n",
      "         FROM titles AS tt\n",
      "         INNER Join Publishers AS pp\n",
      "         ON\n",
      "         tt.pub_id = pp.pub_id\n",
      "+----------+------------------------------+----------------------+\n",
      "| title_id |            title             |       pub_name       |\n",
      "+----------+------------------------------+----------------------+\n",
      "|  BU1032  | The Busy Executive's Data... | Algodata Infosystems |\n",
      "|  BU1111  | Cooking with Computers: S... | Algodata Infosystems |\n",
      "|  BU2075  | You Can Combat Computer S... |    New Moon Books    |\n",
      "|  BU7832  | Straight Talk About Compu... | Algodata Infosystems |\n",
      "|  MC2222  | Silicon Valley Gastronomi... |   Binnet & Hardley   |\n",
      "|  MC3021  |    The Gourmet Microwave     |   Binnet & Hardley   |\n",
      "|  MC3026  | The Psychology of Compute... |   Binnet & Hardley   |\n",
      "|  PC1035  |   But Is It User Friendly?   | Algodata Infosystems |\n",
      "|  PC8888  |  Secrets of Silicon Valley   | Algodata Infosystems |\n",
      "|  PC9999  |        Net Etiquette         | Algodata Infosystems |\n",
      "+----------+------------------------------+----------------------+\n",
      "Query 1 returned 18 records.\n",
      "\n"
     ]
    }
   ],
   "source": [
    "query = [\"\"\"SELECT title_id, title, pub_name\n",
    "         FROM titles AS tt\n",
    "         INNER Join Publishers AS pp\n",
    "         ON\n",
    "         tt.pub_id = pp.pub_id\"\"\"]\n",
    "\n",
    "fetch_and_display_queries(engine, query)"
   ]
  },
  {
   "cell_type": "markdown",
   "metadata": {},
   "source": [
    "---\n",
    "\n",
    "### 28- FirstName and LastName of the employee along with job title\n"
   ]
  },
  {
   "cell_type": "code",
   "execution_count": 32,
   "metadata": {},
   "outputs": [
    {
     "name": "stdout",
     "output_type": "stream",
     "text": [
      "Executing query 1:\n",
      "SELECT fname, lname, job_desc\n",
      "         FROM employee AS ee\n",
      "         INNER JOIN jobs AS jj\n",
      "         ON\n",
      "         ee.job_id = jj.job_id\n",
      "+-----------+-----------+------------------------------+\n",
      "|   fname   |   lname   |           job_desc           |\n",
      "+-----------+-----------+------------------------------+\n",
      "|   Paolo   |  Accorti  |     Sales Representative     |\n",
      "|   Pedro   |   Afonso  |           Designer           |\n",
      "|  Victoria |  Ashworth |       Managing Editor        |\n",
      "|   Helen   |  Bennett  |            Editor            |\n",
      "|   Lesley  |   Brown   |      Marketing Manager       |\n",
      "| Francisco |   Chang   |   Chief Financial Officier   |\n",
      "|   Philip  |   Cramer  |   Chief Executive Officer    |\n",
      "|    Aria   |    Cruz   |     Productions Manager      |\n",
      "|    Ann    |   Devon   | Business Operations Manag... |\n",
      "|  Anabela  | Domingues |   Public Relations Manager   |\n",
      "+-----------+-----------+------------------------------+\n",
      "Query 1 returned 43 records.\n",
      "\n"
     ]
    }
   ],
   "source": [
    "query = [\"\"\"SELECT fname, lname, job_desc\n",
    "         FROM employee AS ee\n",
    "         INNER JOIN jobs AS jj\n",
    "         ON\n",
    "         ee.job_id = jj.job_id\"\"\"]\n",
    "\n",
    "fetch_and_display_queries(engine, query)"
   ]
  },
  {
   "cell_type": "markdown",
   "metadata": {},
   "source": [
    "---\n",
    "\n",
    "### 29- Book name, category and number of books sold\n"
   ]
  },
  {
   "cell_type": "code",
   "execution_count": 34,
   "metadata": {},
   "outputs": [
    {
     "name": "stdout",
     "output_type": "stream",
     "text": [
      "Executing query 1:\n",
      "SELECT title, type, qty \n",
      "         FROM sales AS ss\n",
      "         INNER JOIN titles AS tt\n",
      "         ON\n",
      "         ss.title_id = tt.title_id\n",
      "+------------------------------+--------------+-----+\n",
      "|            title             |     type     | qty |\n",
      "+------------------------------+--------------+-----+\n",
      "| The Busy Executive's Data... | business     |  5  |\n",
      "|     Is Anger the Enemy?      | psychology   |  3  |\n",
      "|  Secrets of Silicon Valley   | popular_comp |  50 |\n",
      "|     Is Anger the Enemy?      | psychology   |  75 |\n",
      "|     Is Anger the Enemy?      | psychology   |  10 |\n",
      "| Onions, Leeks, and Garlic... | trad_cook    |  40 |\n",
      "| Fifty Years in Buckingham... | trad_cook    |  20 |\n",
      "|        Sushi, Anyone?        | trad_cook    |  20 |\n",
      "|     Is Anger the Enemy?      | psychology   |  20 |\n",
      "|    The Gourmet Microwave     | mod_cook     |  25 |\n",
      "+------------------------------+--------------+-----+\n",
      "Query 1 returned 21 records.\n",
      "\n"
     ]
    }
   ],
   "source": [
    "query = [\"\"\"SELECT title, type, qty \n",
    "         FROM sales AS ss\n",
    "         INNER JOIN titles AS tt\n",
    "         ON\n",
    "         ss.title_id = tt.title_id\"\"\"]\n",
    "\n",
    "fetch_and_display_queries(engine, query)"
   ]
  },
  {
   "cell_type": "markdown",
   "metadata": {},
   "source": [
    "---\n",
    "\n",
    "### 30- Cities and states where we have an author, publisher, or store\n"
   ]
  },
  {
   "cell_type": "code",
   "execution_count": 35,
   "metadata": {},
   "outputs": [
    {
     "name": "stdout",
     "output_type": "stream",
     "text": [
      "Executing query 1:\n",
      "SELECT city, state\n",
      "         FROM publishers\n",
      "         UNION ALL\n",
      "         SELECT city, state\n",
      "         FROM authors\n",
      "         UNION ALL\n",
      "         SELECT city, state \n",
      "         FROM stores\n",
      "+------------+-------+\n",
      "|    city    | state |\n",
      "+------------+-------+\n",
      "|   Boston   |   MA  |\n",
      "| Washington |   DC  |\n",
      "|  Berkeley  |   CA  |\n",
      "|  Chicago   |   IL  |\n",
      "|   Dallas   |   TX  |\n",
      "|  M?nchen   |  None |\n",
      "|  New York  |   NY  |\n",
      "|   Paris    |  None |\n",
      "| Menlo Park |   CA  |\n",
      "|  Oakland   |   CA  |\n",
      "+------------+-------+\n",
      "Query 1 returned 37 records.\n",
      "\n"
     ]
    }
   ],
   "source": [
    "query = [\"\"\"SELECT city, state\n",
    "         FROM publishers\n",
    "         UNION ALL\n",
    "         SELECT city, state\n",
    "         FROM authors\n",
    "         UNION ALL\n",
    "         SELECT city, state \n",
    "         FROM stores\"\"\"]\n",
    "\n",
    "fetch_and_display_queries(engine, query)"
   ]
  },
  {
   "cell_type": "markdown",
   "metadata": {},
   "source": [
    "---\n",
    "\n",
    "### 31- Unique cities and states\n"
   ]
  },
  {
   "cell_type": "code",
   "execution_count": 36,
   "metadata": {},
   "outputs": [
    {
     "name": "stdout",
     "output_type": "stream",
     "text": [
      "Executing query 1:\n",
      "SELECT city, state FROM publishers\n",
      "         UNION\n",
      "         SELECT city, state FROM authors\n",
      "         UNION\n",
      "         SELECT city, state FROM stores\n",
      "+-----------+-------+\n",
      "|    city   | state |\n",
      "+-----------+-------+\n",
      "| Ann Arbor |   MI  |\n",
      "|  Berkeley |   CA  |\n",
      "|   Boston  |   MA  |\n",
      "|  Chicago  |   IL  |\n",
      "| Corvallis |   OR  |\n",
      "|   Covelo  |   CA  |\n",
      "|   Dallas  |   TX  |\n",
      "|  Fremont  |   CA  |\n",
      "|    Gary   |   IN  |\n",
      "|  Lawrence |   KS  |\n",
      "+-----------+-------+\n",
      "Query 1 returned 29 records.\n",
      "\n"
     ]
    }
   ],
   "source": [
    "query = [\"\"\"SELECT city, state FROM publishers\n",
    "         UNION\n",
    "         SELECT city, state FROM authors\n",
    "         UNION\n",
    "         SELECT city, state FROM stores\"\"\"]\n",
    "\n",
    "fetch_and_display_queries(engine, query)"
   ]
  },
  {
   "cell_type": "markdown",
   "metadata": {},
   "source": [
    "---\n",
    "\n",
    "### 32- Two job titles with the largest number of personnel\n"
   ]
  },
  {
   "cell_type": "code",
   "execution_count": 40,
   "metadata": {},
   "outputs": [
    {
     "name": "stdout",
     "output_type": "stream",
     "text": [
      "Executing query 1:\n",
      "SELECT TOP 2 job_desc, COUNT(*) AS NumberOfEmployee\n",
      "         FROM employee AS ee\n",
      "         INNER JOIN jobs AS jj\n",
      "         ON\n",
      "         ee.job_id = jj.job_id\n",
      "         GROUP BY job_desc\n",
      "         ORDER BY NumberOfEmployee DESC\n",
      "+----------------------+------------------+\n",
      "|       job_desc       | NumberOfEmployee |\n",
      "+----------------------+------------------+\n",
      "|      Publisher       |        7         |\n",
      "| Acquisitions Manager |        4         |\n",
      "+----------------------+------------------+\n",
      "Query 1 returned 2 records.\n",
      "\n"
     ]
    }
   ],
   "source": [
    "query = [\"\"\"SELECT TOP 2 job_desc, COUNT(*) AS NumberOfEmployee\n",
    "         FROM employee AS ee\n",
    "         INNER JOIN jobs AS jj\n",
    "         ON\n",
    "         ee.job_id = jj.job_id\n",
    "         GROUP BY job_desc\n",
    "         ORDER BY NumberOfEmployee DESC\"\"\"]\n",
    "\n",
    "fetch_and_display_queries(engine, query)"
   ]
  }
 ],
 "metadata": {
  "kernelspec": {
   "display_name": "Python 3",
   "language": "python",
   "name": "python3"
  },
  "language_info": {
   "codemirror_mode": {
    "name": "ipython",
    "version": 3
   },
   "file_extension": ".py",
   "mimetype": "text/x-python",
   "name": "python",
   "nbconvert_exporter": "python",
   "pygments_lexer": "ipython3",
   "version": "3.12.4"
  }
 },
 "nbformat": 4,
 "nbformat_minor": 2
}

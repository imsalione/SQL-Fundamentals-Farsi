{
 "cells": [
  {
   "cell_type": "markdown",
   "metadata": {},
   "source": [
    "## **SQL-Fundamentals-Farsi**"
   ]
  },
  {
   "cell_type": "markdown",
   "metadata": {},
   "source": [
    "### **Calling the SQL Server Connection Function**"
   ]
  },
  {
   "cell_type": "code",
   "execution_count": 1,
   "metadata": {},
   "outputs": [],
   "source": [
    "import pandas as pd\n",
    "from sqlalchemy import create_engine\n",
    "from sqlalchemy.exc import SQLAlchemyError\n",
    "import logging\n",
    "\n",
    "# Configure logging\n",
    "logging.basicConfig(level=logging.INFO, format='%(asctime)s - %(levelname)s - %(message)s')\n",
    "\n",
    "def create_connection(server, database, username=None, password=None):\n",
    "    \"\"\"\n",
    "    Create a connection to the SQL Server database using SQLAlchemy.\n",
    "    \n",
    "    Parameters:\n",
    "    - server: str, the name of the SQL Server\n",
    "    - database: str, the name of the database\n",
    "    - username: str, optional, SQL Server username (for SQL authentication)\n",
    "    - password: str, optional, SQL Server password (for SQL authentication)\n",
    "    \n",
    "    Returns:\n",
    "    - engine: sqlalchemy.engine.base.Engine, the SQLAlchemy engine object or None if the connection fails\n",
    "    \"\"\"\n",
    "    try:\n",
    "        if username and password:\n",
    "            connection_string = f'mssql+pyodbc://{username}:{password}@{server}/{database}?driver=ODBC+Driver+17+for+SQL+Server'\n",
    "        else:\n",
    "            connection_string = f'mssql+pyodbc://{server}/{database}?driver=ODBC+Driver+17+for+SQL+Server'\n",
    "        \n",
    "        engine = create_engine(connection_string)\n",
    "        \n",
    "        # Test connection\n",
    "        with engine.connect() as conn:\n",
    "            logging.info(\"Connection successful!\")\n",
    "        \n",
    "        return engine\n",
    "\n",
    "    except SQLAlchemyError as e:\n",
    "        logging.error(f\"Connection failed: {e}\")\n",
    "        return None"
   ]
  },
  {
   "cell_type": "markdown",
   "metadata": {},
   "source": [
    "***\n",
    "\n",
    "### **Check if the database connection is successful**"
   ]
  },
  {
   "cell_type": "code",
   "execution_count": 2,
   "metadata": {},
   "outputs": [
    {
     "name": "stderr",
     "output_type": "stream",
     "text": [
      "2024-09-29 14:11:03,593 - INFO - Connection successful!\n",
      "2024-09-29 14:11:03,595 - INFO - Database connection established successfully.\n"
     ]
    }
   ],
   "source": [
    "def check_connection(engine):\n",
    "    if engine:\n",
    "        logging.info(\"Database connection established successfully.\")\n",
    "        return True\n",
    "    else:\n",
    "        logging.error(\"Failed to establish database connection.\")\n",
    "        return False\n",
    "\n",
    "# Call the create_connection function\n",
    "server = r'imsalione-pc\\imsalionedb'\n",
    "database = 'AdventureWorksLT2022'\n",
    "\n",
    "engine = create_connection(server, database)\n",
    "\n",
    "# Use the check_connection function to verify the connection\n",
    "if check_connection(engine):\n",
    "    # Proceed with database operations\n",
    "    pass\n",
    "else:\n",
    "    # Handle the failed connection\n",
    "    pass"
   ]
  },
  {
   "cell_type": "markdown",
   "metadata": {},
   "source": [
    "***\n",
    "\n",
    "### **Fetching and Displaying Data from SQL Server**"
   ]
  },
  {
   "cell_type": "code",
   "execution_count": 37,
   "metadata": {},
   "outputs": [],
   "source": [
    "import pandas as pd\n",
    "from sqlalchemy import exc\n",
    "from pathlib import Path\n",
    "from prettytable import PrettyTable\n",
    "\n",
    "# Define the directory where you want to save the report files\n",
    "output_directory = Path(\"C:/Reports\")  # Adjust the path as needed\n",
    "output_directory.mkdir(parents=True, exist_ok=True)  # Ensure the directory exists\n",
    "\n",
    "def truncate(value, width):\n",
    "    return str(value)[:width] + \"...\" if len(str(value)) > width else str(value)\n",
    "\n",
    "def fetch_and_display_queries(engine, queries, pnum=10, export_to_excel=False, export_to_csv=False):\n",
    "    \"\"\"\n",
    "    Fetch data from multiple SQL queries and optionally export to Excel or CSV.\n",
    "    \n",
    "    Parameters:\n",
    "    - engine: SQLAlchemy engine object.\n",
    "    - queries: List of SQL query strings.\n",
    "    - pnum: int, number of rows to display (default is 10).\n",
    "    - export_to_excel: bool, whether to export data to an Excel file (default is False).\n",
    "    - export_to_csv: bool, whether to export data to a CSV file (default is False).\n",
    "    \"\"\"\n",
    "    \n",
    "    if engine:\n",
    "        for i, query in enumerate(queries, 1):\n",
    "            print(f\"Executing query {i}:\\n{query}\\n\")\n",
    "            try:\n",
    "                # Load data into a pandas DataFrame\n",
    "                df = pd.read_sql(query, engine)\n",
    "                \n",
    "                # Display the first pnum rows (or default 10 rows if pnum is not provided)\n",
    "                table = PrettyTable()\n",
    "                table.field_names = df.columns\n",
    "                \n",
    "                # Limit the width of each column to 20 characters\n",
    "                for row in df.head(pnum).itertuples(index=False):\n",
    "                    table.add_row([truncate(value, 25) for value in row])\n",
    "                \n",
    "                print(table)\n",
    "                \n",
    "                # Export to Excel if requested\n",
    "                if export_to_excel:\n",
    "                    file_path = output_directory / f\"report_{i}.xlsx\"\n",
    "                    new_sheet_name = f\"Rep_{pd.Timestamp.now().strftime('%d%m%Y%H%M%S')}\"\n",
    "                    \n",
    "                    try:\n",
    "                        with pd.ExcelWriter(file_path, engine='openpyxl', mode='a', if_sheet_exists='new') as writer:\n",
    "                            df.to_excel(writer, sheet_name=new_sheet_name, index=False)\n",
    "                            print(f\"Data from query {i} exported to {file_path} in sheet {new_sheet_name}\")\n",
    "                    except Exception as e:\n",
    "                        print(f\"Error writing to existing Excel file: {e}\")\n",
    "                \n",
    "                # Export to CSV if requested\n",
    "                if export_to_csv:\n",
    "                    csv_file_path = output_directory / f\"report_{i}_{pd.Timestamp.now().strftime('%d%m%Y%H%M%S')}.csv\"\n",
    "                    try:\n",
    "                        df.to_csv(csv_file_path, index=False)\n",
    "                        print(f\"Data from query {i} exported to CSV at {csv_file_path}\")\n",
    "                    except Exception as e:\n",
    "                        print(f\"Error writing to CSV file: {e}\")\n",
    "\n",
    "            except exc.SQLAlchemyError as db_error:\n",
    "                print(f\"Database error occurred during query {i}: {db_error}\")\n",
    "            except Exception as e:\n",
    "                print(f\"An error occurred during query {i}: {e}\")\n",
    "    else:\n",
    "        print(\"No database connection.\")\n",
    "\n",
    "# Example usage:\n",
    "# queries = [\"SELECT * FROM table1\", \"SELECT * FROM table2 WHERE column = 'value'\"]\n",
    "# fetch_and_display_multiple_queries(engine, queries, pnum=5, export_to_excel=True)"
   ]
  },
  {
   "cell_type": "markdown",
   "metadata": {},
   "source": [
    "***\n",
    "\n",
    "### **Executing SQL Query to Fetch and Display Table Information**"
   ]
  },
  {
   "cell_type": "code",
   "execution_count": 39,
   "metadata": {},
   "outputs": [
    {
     "name": "stdout",
     "output_type": "stream",
     "text": [
      "Executing query 1:\n",
      "SELECT TABLE_SCHEMA, TABLE_NAME FROM INFORMATION_SCHEMA.TABLES\n",
      "\n",
      "+--------------+------------------------------+\n",
      "| TABLE_SCHEMA |          TABLE_NAME          |\n",
      "+--------------+------------------------------+\n",
      "|     dbo      |           ErrorLog           |\n",
      "|     dbo      |         BuildVersion         |\n",
      "|   SalesLT    |           Address            |\n",
      "|   SalesLT    |           Customer           |\n",
      "|   SalesLT    |       CustomerAddress        |\n",
      "|   SalesLT    |           Product            |\n",
      "|   SalesLT    |       ProductCategory        |\n",
      "|   SalesLT    |      ProductDescription      |\n",
      "|   SalesLT    |         ProductModel         |\n",
      "|   SalesLT    | ProductModelProductDescri... |\n",
      "|   SalesLT    |       SalesOrderDetail       |\n",
      "|   SalesLT    |       SalesOrderHeader       |\n",
      "|   SalesLT    |    vProductAndDescription    |\n",
      "|   SalesLT    | vProductModelCatalogDescr... |\n",
      "|   SalesLT    |      vGetAllCategories       |\n",
      "+--------------+------------------------------+\n"
     ]
    }
   ],
   "source": [
    "queryes = [\"SELECT TABLE_SCHEMA, TABLE_NAME FROM INFORMATION_SCHEMA.TABLES\"]\n",
    "\n",
    "fetch_and_display_queries(engine, queryes, pnum=20)"
   ]
  },
  {
   "cell_type": "code",
   "execution_count": 40,
   "metadata": {},
   "outputs": [
    {
     "name": "stdout",
     "output_type": "stream",
     "text": [
      "Executing query 1:\n",
      "SELECT COLUMN_NAME, DATA_TYPE\n",
      "FROM INFORMATION_SCHEMA.COLUMNS\n",
      "WHERE TABLE_NAME = 'Customer';\n",
      "\n",
      "+--------------+------------------+\n",
      "| COLUMN_NAME  |    DATA_TYPE     |\n",
      "+--------------+------------------+\n",
      "|  CustomerID  |       int        |\n",
      "|  NameStyle   |       bit        |\n",
      "|    Title     |     nvarchar     |\n",
      "|  FirstName   |     nvarchar     |\n",
      "|  MiddleName  |     nvarchar     |\n",
      "|   LastName   |     nvarchar     |\n",
      "|    Suffix    |     nvarchar     |\n",
      "| CompanyName  |     nvarchar     |\n",
      "| SalesPerson  |     nvarchar     |\n",
      "| EmailAddress |     nvarchar     |\n",
      "|    Phone     |     nvarchar     |\n",
      "| PasswordHash |     varchar      |\n",
      "| PasswordSalt |     varchar      |\n",
      "|   rowguid    | uniqueidentifier |\n",
      "| ModifiedDate |     datetime     |\n",
      "+--------------+------------------+\n",
      "Executing query 2:\n",
      "SELECT COLUMN_NAME, DATA_TYPE\n",
      "FROM INFORMATION_SCHEMA.COLUMNS\n",
      "WHERE TABLE_NAME = 'Product';\n",
      "\n",
      "\n",
      "+------------------------+------------------+\n",
      "|      COLUMN_NAME       |    DATA_TYPE     |\n",
      "+------------------------+------------------+\n",
      "|       ProductID        |       int        |\n",
      "|          Name          |     nvarchar     |\n",
      "|     ProductNumber      |     nvarchar     |\n",
      "|         Color          |     nvarchar     |\n",
      "|      StandardCost      |      money       |\n",
      "|       ListPrice        |      money       |\n",
      "|          Size          |     nvarchar     |\n",
      "|         Weight         |     decimal      |\n",
      "|   ProductCategoryID    |       int        |\n",
      "|     ProductModelID     |       int        |\n",
      "|     SellStartDate      |     datetime     |\n",
      "|      SellEndDate       |     datetime     |\n",
      "|    DiscontinuedDate    |     datetime     |\n",
      "|     ThumbNailPhoto     |    varbinary     |\n",
      "| ThumbnailPhotoFileName |     nvarchar     |\n",
      "|        rowguid         | uniqueidentifier |\n",
      "|      ModifiedDate      |     datetime     |\n",
      "+------------------------+------------------+\n"
     ]
    }
   ],
   "source": [
    "queryes = [\"\"\"SELECT COLUMN_NAME, DATA_TYPE\n",
    "FROM INFORMATION_SCHEMA.COLUMNS\n",
    "WHERE TABLE_NAME = 'Customer';\"\"\",\n",
    "\n",
    "\"\"\"SELECT COLUMN_NAME, DATA_TYPE\n",
    "FROM INFORMATION_SCHEMA.COLUMNS\n",
    "WHERE TABLE_NAME = 'Product';\n",
    "\"\"\"]\n",
    "\n",
    "fetch_and_display_queries(engine, queryes, pnum=20)"
   ]
  },
  {
   "cell_type": "code",
   "execution_count": 11,
   "metadata": {},
   "outputs": [
    {
     "name": "stdout",
     "output_type": "stream",
     "text": [
      "+-----------+-----------+-------------------+\n",
      "| FirstName |  LastName |      FullName     |\n",
      "+-----------+-----------+-------------------+\n",
      "|  Caroline |  Vicknair | Caroline Vicknair |\n",
      "|  Caroline |  Vicknair | Caroline Vicknair |\n",
      "|   Robert  |   Vessa   |    Robert Vessa   |\n",
      "|   Robert  |   Vessa   |    Robert Vessa   |\n",
      "|   Wanda   |   Vernon  |    Wanda Vernon   |\n",
      "|   Wanda   |   Vernon  |    Wanda Vernon   |\n",
      "|    Dora   |   Verdad  |    Dora Verdad    |\n",
      "|    Dora   |   Verdad  |    Dora Verdad    |\n",
      "|    Raja   | Venugopal |   Raja Venugopal  |\n",
      "|    Raja   | Venugopal |   Raja Venugopal  |\n",
      "+-----------+-----------+-------------------+\n"
     ]
    }
   ],
   "source": [
    "query = \"\"\"SELECT FirstName, LastName, \n",
    "FirstName + ' ' + LastName AS FullName \n",
    "FROM SalesLT.Customer\n",
    "ORDER BY LastName DESC\"\"\"\n",
    "\n",
    "fetch_and_display_data(engine, query, 10)"
   ]
  },
  {
   "cell_type": "code",
   "execution_count": 92,
   "metadata": {},
   "outputs": [
    {
     "name": "stdout",
     "output_type": "stream",
     "text": [
      "+------------+\n",
      "| AverageQTY |\n",
      "+------------+\n",
      "|     3      |\n",
      "+------------+\n"
     ]
    }
   ],
   "source": [
    "query = \"SELECT AVG(OrderQty) AS AverageQTY FROM SalesLT.SalesOrderDetail\"\n",
    "\n",
    "fetch_and_display_data(engine, query)"
   ]
  },
  {
   "cell_type": "code",
   "execution_count": 93,
   "metadata": {},
   "outputs": [
    {
     "name": "stdout",
     "output_type": "stream",
     "text": [
      "+----------+-----------+-----------+------------+\n",
      "| OrderQty | ProductID | UnitPrice | SalesClass |\n",
      "+----------+-----------+-----------+------------+\n",
      "|    1     |    836    |  356.898  |  کم فروش   |\n",
      "|    1     |    822    |  356.898  |  کم فروش   |\n",
      "|    1     |    907    |    63.9   |  کم فروش   |\n",
      "|    4     |    905    |  218.454  |   پرفروش   |\n",
      "|    2     |    983    |  461.694  |  کم فروش   |\n",
      "|    6     |    988    |  112.998  |   پرفروش   |\n",
      "|    2     |    748    |   818.7   |  کم فروش   |\n",
      "|    1     |    990    |  323.994  |  کم فروش   |\n",
      "|    1     |    926    |  149.874  |  کم فروش   |\n",
      "|    1     |    743    |   809.76  |  کم فروش   |\n",
      "|    4     |    782    |  1376.994 |   پرفروش   |\n",
      "|    2     |    918    |   158.43  |  کم فروش   |\n",
      "|    4     |    780    |  1391.994 |   پرفروش   |\n",
      "|    1     |    937    |   48.594  |  کم فروش   |\n",
      "|    6     |    867    |   41.994  |   پرفروش   |\n",
      "+----------+-----------+-----------+------------+\n"
     ]
    }
   ],
   "source": [
    "query = \"\"\"SELECT OrderQty, ProductID, UnitPrice, CASE\n",
    "WHEN OrderQty < 3 THEN N'کم فروش'\n",
    "WHEN OrderQty >= 3 THEN N'پرفروش'\n",
    "END AS SalesClass \n",
    "FROM SalesLT.SalesOrderDetail\"\"\"\n",
    "\n",
    "fetch_and_display_data(engine, query, 15)"
   ]
  },
  {
   "cell_type": "code",
   "execution_count": 94,
   "metadata": {},
   "outputs": [
    {
     "name": "stdout",
     "output_type": "stream",
     "text": [
      "+-------------------+-----------+\n",
      "|    COLUMN_NAME    | DATA_TYPE |\n",
      "+-------------------+-----------+\n",
      "|     ProductID     |    int    |\n",
      "|        Name       |  nvarchar |\n",
      "|   ProductNumber   |  nvarchar |\n",
      "|       Color       |  nvarchar |\n",
      "|    StandardCost   |   money   |\n",
      "|     ListPrice     |   money   |\n",
      "|        Size       |  nvarchar |\n",
      "|       Weight      |  decimal  |\n",
      "| ProductCategoryID |    int    |\n",
      "|   ProductModelID  |    int    |\n",
      "+-------------------+-----------+\n"
     ]
    }
   ],
   "source": [
    "query = \"\"\"SELECT COLUMN_NAME, DATA_TYPE\n",
    "FROM INFORMATION_SCHEMA.COLUMNS\n",
    "WHERE TABLE_NAME = 'Product';\n",
    "\"\"\"\n",
    "\n",
    "fetch_and_display_data(engine, query)"
   ]
  },
  {
   "cell_type": "code",
   "execution_count": 95,
   "metadata": {},
   "outputs": [
    {
     "name": "stdout",
     "output_type": "stream",
     "text": [
      "+---------------+--------------+------+---------+\n",
      "| ProductNumber | StandardCost | Size |  Weight |\n",
      "+---------------+--------------+------+---------+\n",
      "|   FR-R92B-58  |   1059.31    |  58  | 1016.04 |\n",
      "|   FR-R92R-58  |   1059.31    |  58  | 1016.04 |\n",
      "|   HL-U509-R   |   13.0863    | None |   nan   |\n",
      "|    HL-U509    |   13.0863    | None |   nan   |\n",
      "|   SO-B909-M   |    3.3963    |  M   |   nan   |\n",
      "|   SO-B909-L   |    3.3963    |  L   |   nan   |\n",
      "|   HL-U509-B   |   13.0863    | None |   nan   |\n",
      "|    CA-1098    |    6.9223    | None |   nan   |\n",
      "|   LJ-0192-S   |   38.4923    |  S   |   nan   |\n",
      "|   LJ-0192-M   |   38.4923    |  M   |   nan   |\n",
      "+---------------+--------------+------+---------+\n"
     ]
    }
   ],
   "source": [
    "query = \"\"\"SELECT ProductNumber, StandardCost, Size, Weight FROM SalesLT.Product\"\"\"\n",
    "\n",
    "fetch_and_display_data(engine, query)"
   ]
  },
  {
   "cell_type": "code",
   "execution_count": 96,
   "metadata": {},
   "outputs": [
    {
     "name": "stdout",
     "output_type": "stream",
     "text": [
      "+-------------+---------+---------+\n",
      "| DateAverage | MaxYear | MinYear |\n",
      "+-------------+---------+---------+\n",
      "|     2007    |   2008  |   2007  |\n",
      "+-------------+---------+---------+\n"
     ]
    }
   ],
   "source": [
    "query = \"\"\"SELECT AVG(YEAR(ModifiedDate)) AS DateAverage,\n",
    "Max(YEAR(ModifiedDate)) AS MaxYear,\n",
    "Min(YEAR(ModifiedDate)) AS MinYear\n",
    "FROM SalesLT.ProductDescription\"\"\"\n",
    "\n",
    "fetch_and_display_data(engine, query)"
   ]
  },
  {
   "cell_type": "code",
   "execution_count": 97,
   "metadata": {},
   "outputs": [
    {
     "name": "stdout",
     "output_type": "stream",
     "text": [
      "+----------------------+------------------------------+------------------------------+\n",
      "| ProductDescriptionID |         Description          |         ModifiedDate         |\n",
      "+----------------------+------------------------------+------------------------------+\n",
      "|          3           |       Chromoly steel.        |     2007-06-01 00:00:00      |\n",
      "|          4           | Aluminum alloy cups; larg... |     2007-06-01 00:00:00      |\n",
      "|          5           | Aluminum alloy cups and a... |     2007-06-01 00:00:00      |\n",
      "|          8           | Suitable for any type of ... |     2007-06-01 00:00:00      |\n",
      "|          64          | This bike delivers a high... |     2007-06-01 00:00:00      |\n",
      "|          88          | For true trail addicts.  ... |     2007-06-01 00:00:00      |\n",
      "|         128          | Serious back-country ridi... | 2008-03-11 10:32:17.97300... |\n",
      "|         168          | Top-of-the-line competiti... |     2007-06-01 00:00:00      |\n",
      "|         170          | Suitable for any type of ... |     2007-06-01 00:00:00      |\n",
      "|         209          | Entry level adult bike; o... |     2007-06-01 00:00:00      |\n",
      "+----------------------+------------------------------+------------------------------+\n"
     ]
    }
   ],
   "source": [
    "query = \"\"\"SELECT ProductDescriptionID, Description, ModifiedDate FROM SalesLT.ProductDescription\"\"\"\n",
    "\n",
    "fetch_and_display_data(engine, query)"
   ]
  },
  {
   "cell_type": "code",
   "execution_count": 98,
   "metadata": {},
   "outputs": [
    {
     "name": "stdout",
     "output_type": "stream",
     "text": [
      "+----------+-----------+\n",
      "| SaleYEAR | YearCount |\n",
      "+----------+-----------+\n",
      "|    6     |    207    |\n",
      "|    6     |    207    |\n",
      "|    6     |    207    |\n",
      "|    6     |    207    |\n",
      "|    6     |    207    |\n",
      "|    6     |    207    |\n",
      "|    3     |    198    |\n",
      "|    6     |    207    |\n",
      "|    6     |    207    |\n",
      "|    6     |    207    |\n",
      "+----------+-----------+\n"
     ]
    }
   ],
   "source": [
    "query = \"\"\"SELECT MONTH(ModifiedDate) AS SaleYEAR,\n",
    "DATEDIFF(MONTH, modifieddate, GETDATE())\n",
    "AS YearCount FROM SalesLT.ProductDescription\"\"\"\n",
    "\n",
    "fetch_and_display_data(engine, query)"
   ]
  },
  {
   "cell_type": "code",
   "execution_count": 77,
   "metadata": {},
   "outputs": [
    {
     "name": "stdout",
     "output_type": "stream",
     "text": [
      "Database error occurred: (pyodbc.ProgrammingError) ('42S02', \"[42S02] [Microsoft][ODBC Driver 17 for SQL Server][SQL Server]Invalid object name 'employee'. (208) (SQLExecDirectW)\")\n",
      "[SQL: SELECT fname, lname, hire_date , DATEDIFF(YEAR, hire_date, GETDATE())\n",
      "AS experience, \n",
      "CASE \n",
      "WHEN DATEDIFF(YEAR, hire_date, GETDATE()) > 30 THEN 'G1'\n",
      "WHEN DATEDIFF(YEAR, hire_date, GETDATE()) <= 30 THEN 'G2'\n",
      "END AS experienceClass\n",
      "FROM employee]\n",
      "(Background on this error at: https://sqlalche.me/e/20/f405)\n"
     ]
    }
   ],
   "source": [
    "query = \"\"\"SELECT fname, lname, hire_date , DATEDIFF(YEAR, hire_date, GETDATE())\n",
    "AS experience, \n",
    "CASE \n",
    "WHEN DATEDIFF(YEAR, hire_date, GETDATE()) > 30 THEN 'G1'\n",
    "WHEN DATEDIFF(YEAR, hire_date, GETDATE()) <= 30 THEN 'G2'\n",
    "END AS experienceClass\n",
    "FROM employee\"\"\"\n",
    "\n",
    "fetch_and_display_data(engine, query)"
   ]
  },
  {
   "cell_type": "code",
   "execution_count": 36,
   "metadata": {},
   "outputs": [
    {
     "name": "stdout",
     "output_type": "stream",
     "text": [
      " id stor_id  ord_num   ord_date  qty   payterms title_id\n",
      "  1    6380     6871 1994-09-14    5     Net 60   BU1032\n",
      " 15    7896   QQ2299 1993-10-28   15     Net 60   BU7832\n",
      " 17    7896     X999 1993-02-21   35 ON invoice   BU2075\n",
      " 19    8042 423LL930 1994-09-14   10 ON invoice   BU1032\n",
      " 20    8042     P723 1993-03-11   25     Net 30   BU1111\n"
     ]
    }
   ],
   "source": [
    "query = \"\"\"SELECT * FROM sales\n",
    "WHERE title_id like 'B%'\"\"\"\n",
    "\n",
    "fetch_and_display_data(engine, query)"
   ]
  },
  {
   "cell_type": "code",
   "execution_count": 48,
   "metadata": {},
   "outputs": [
    {
     "name": "stdout",
     "output_type": "stream",
     "text": [
      "                                               title         type  NewPrice\n",
      "                  The Psychology of Computer Cooking UNDECIDED         0.00\n",
      "                                       Net Etiquette popular_comp      0.00\n",
      "                               The Gourmet Microwave mod_cook          2.99\n",
      "                     You Can Combat Computer Stress! business          2.99\n",
      "                                   Life Without Fear psychology        7.00\n",
      "                 Emotional Security: A New Algorithm psychology        7.99\n",
      "                                 Is Anger the Enemy? psychology       10.95\n",
      "           Fifty Years in Buckingham Palace Kitchens trad_cook        11.95\n",
      "Cooking with Computers: Surreptitious Balance Sheets business         11.95\n",
      "                                      Sushi, Anyone? trad_cook        14.99\n"
     ]
    }
   ],
   "source": [
    "query = \"\"\"SELECT title, type, isnull(price, 0)\n",
    "AS NewPrice\n",
    "FROM TITLES\n",
    "ORDER BY NewPrice\"\"\"\n",
    "\n",
    "fetch_and_display_data(engine, query)"
   ]
  },
  {
   "cell_type": "code",
   "execution_count": 53,
   "metadata": {},
   "outputs": [
    {
     "name": "stdout",
     "output_type": "stream",
     "text": [
      "                                                          title\n",
      "                                       But Is It User Friendly?\n",
      "Computer Phobic AND Non-Phobic Individuals: Behavior Variations\n",
      "Onions, Leeks, and Garlic: Cooking Secrets of the Mediterranean\n"
     ]
    }
   ],
   "source": [
    "query = \"\"\"SELECT TOP 3 title FROM titles\n",
    "ORDER BY price DESC\"\"\"\n",
    "\n",
    "fetch_and_display_data(engine, query)"
   ]
  },
  {
   "cell_type": "code",
   "execution_count": 56,
   "metadata": {},
   "outputs": [
    {
     "name": "stdout",
     "output_type": "stream",
     "text": [
      "   emp_id fname minit     lname  job_id  job_lvl pub_id  hire_date\n",
      "MGK44605M Matti     G Karttunen       6      220   0736 1994-05-01\n",
      "KJJ92907F Karla     J Jablonski       9      170   9999 1994-03-11\n",
      "PSP68661F Paula     S   Parente       8      125   1389 1994-01-19\n"
     ]
    }
   ],
   "source": [
    "query = \"\"\"SELECT TOP 3 * FROM employee\n",
    "ORDER BY hire_date DESC\"\"\"\n",
    "\n",
    "fetch_and_display_data(engine, query)"
   ]
  },
  {
   "cell_type": "code",
   "execution_count": 59,
   "metadata": {},
   "outputs": [
    {
     "name": "stdout",
     "output_type": "stream",
     "text": [
      "pub_id  price\n",
      "  1389  19.99\n",
      "  1389  11.95\n",
      "  1389  19.99\n",
      "  0877  19.99\n",
      "  1389  20.00\n",
      "  0736  10.95\n",
      "  0736   7.00\n",
      "  0736  19.99\n",
      "  0736   7.99\n",
      "  0877  11.95\n",
      "  0877  14.99\n"
     ]
    }
   ],
   "source": [
    "query = \"\"\"SELECT pub_id, price FROM titles \n",
    "WHERE price BETWEEN 7 AND 20\"\"\"\n",
    "\n",
    "fetch_and_display_data(engine, query, 15)"
   ]
  },
  {
   "cell_type": "code",
   "execution_count": 62,
   "metadata": {},
   "outputs": [
    {
     "name": "stdout",
     "output_type": "stream",
     "text": [
      "pub_id                 pubdate\n",
      "  0877 2023-08-13 18:04:28.620\n",
      "  1389 1994-06-12 00:00:00.000\n",
      "  1389 2023-08-13 18:04:28.620\n"
     ]
    }
   ],
   "source": [
    "query = \"\"\"select pub_id, pubdate from titles\n",
    "where year(pubdate) > 1991\"\"\"\n",
    "\n",
    "fetch_and_display_data(engine, query)"
   ]
  },
  {
   "cell_type": "code",
   "execution_count": 65,
   "metadata": {},
   "outputs": [
    {
     "name": "stdout",
     "output_type": "stream",
     "text": [
      " SumPrice  AvgPrice  MaxPrice  MinPrice\n",
      "   236.26   14.7662     22.95      2.99\n"
     ]
    }
   ],
   "source": [
    "query = \"\"\"SELECT sum(price) as SumPrice,\n",
    "AVG(price) as AvgPrice,\n",
    "Max(price) as MaxPrice,\n",
    "Min(price) as MinPrice\n",
    "FROM titles\"\"\"\n",
    "\n",
    "fetch_and_display_data(engine, query)"
   ]
  },
  {
   "cell_type": "code",
   "execution_count": 66,
   "metadata": {},
   "outputs": [
    {
     "name": "stdout",
     "output_type": "stream",
     "text": [
      " NumberOfAuthors\n",
      "              23\n"
     ]
    }
   ],
   "source": [
    "query = \"SELECT COUNT(*) AS NumberOfAuthors FROM authors\"\n",
    "\n",
    "fetch_and_display_data(engine, query)"
   ]
  },
  {
   "cell_type": "code",
   "execution_count": 71,
   "metadata": {},
   "outputs": [
    {
     "name": "stdout",
     "output_type": "stream",
     "text": [
      "        type  AveragePrice\n",
      "business             13.73\n",
      "mod_cook             11.49\n",
      "popular_comp         21.48\n",
      "psychology           13.50\n",
      "trad_cook            15.96\n",
      "UNDECIDED              NaN\n"
     ]
    }
   ],
   "source": [
    "query = \"\"\"\n",
    "SELECT type, ROUND(AVG(price), 2) AS AveragePrice\n",
    "FROM titles\n",
    "GROUP BY type\"\"\"\n",
    "\n",
    "fetch_and_display_data(engine, query)"
   ]
  },
  {
   "cell_type": "code",
   "execution_count": 7,
   "metadata": {},
   "outputs": [
    {
     "name": "stdout",
     "output_type": "stream",
     "text": [
      " NumberOfHiredEmployee  YearOfHiring\n",
      "                     8          1990\n",
      "                     7          1991\n",
      "                     7          1992\n",
      "                     7          1993\n",
      "                     7          1989\n",
      "                     4          1988\n",
      "                     3          1994\n",
      "Data exported to C:\\Reports\\report.xlsx in sheet Rep_23092024152956\n"
     ]
    }
   ],
   "source": [
    "query = \"\"\"select count(*) as NumberOfHiredEmployee,\n",
    "year(hire_date) as YearOfHiring\n",
    "from employee\n",
    "group by year(hire_date)\n",
    "order by NumberOfHiredEmployee desc\"\"\"\n",
    "\n",
    "fetch_and_display_data(engine, query)"
   ]
  },
  {
   "cell_type": "code",
   "execution_count": 11,
   "metadata": {},
   "outputs": [
    {
     "name": "stdout",
     "output_type": "stream",
     "text": [
      " NumberOfHiredEmployee  YearOfHiring\n",
      "                     8          1990\n",
      "                     7          1991\n",
      "                     7          1992\n",
      "                     7          1993\n",
      "                     7          1989\n"
     ]
    }
   ],
   "source": [
    "query = \"\"\"\n",
    "select count(*) as NumberOfHiredEmployee,\n",
    "YEAR(hire_date) as YearOfHiring\n",
    "from employee\n",
    "group by YEAR(hire_date)\n",
    "having count(*) > 5\n",
    "order by NumberOfHiredEmployee desc\"\"\"\n",
    "\n",
    "fetch_and_display_data(engine, query)"
   ]
  },
  {
   "cell_type": "code",
   "execution_count": 27,
   "metadata": {},
   "outputs": [
    {
     "name": "stdout",
     "output_type": "stream",
     "text": [
      " CountOfPerson\n",
      "           847\n"
     ]
    }
   ],
   "source": [
    "query = \"\"\"select count(FirstName) as CountOfPerson \n",
    "from SalesLT.Customer\n",
    "\"\"\"\n",
    "\n",
    "fetch_and_display_data(engine, query)"
   ]
  }
 ],
 "metadata": {
  "kernelspec": {
   "display_name": "Python 3",
   "language": "python",
   "name": "python3"
  },
  "language_info": {
   "codemirror_mode": {
    "name": "ipython",
    "version": 3
   },
   "file_extension": ".py",
   "mimetype": "text/x-python",
   "name": "python",
   "nbconvert_exporter": "python",
   "pygments_lexer": "ipython3",
   "version": "3.12.4"
  }
 },
 "nbformat": 4,
 "nbformat_minor": 2
}
